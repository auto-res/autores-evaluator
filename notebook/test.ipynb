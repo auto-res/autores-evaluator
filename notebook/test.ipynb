{
 "cells": [
  {
   "cell_type": "code",
   "execution_count": 1,
   "metadata": {},
   "outputs": [
    {
     "name": "stderr",
     "output_type": "stream",
     "text": [
      "/Users/tanakatouma/vscode/auto-evaluate/.venv/lib/python3.9/site-packages/tqdm/auto.py:21: TqdmWarning: IProgress not found. Please update jupyter and ipywidgets. See https://ipywidgets.readthedocs.io/en/stable/user_install.html\n",
      "  from .autonotebook import tqdm as notebook_tqdm\n"
     ]
    }
   ],
   "source": [
    "import sys\n",
    "sys.path.append('..')\n",
    "\n",
    "from src.autoevaluate.main import AutoEvaluate"
   ]
  },
  {
   "cell_type": "code",
   "execution_count": 2,
   "metadata": {},
   "outputs": [],
   "source": [
    "params = {\n",
    "    'lambda_l1': {'type': 'log_float', 'args': [1e-8, 10.0]},\n",
    "    'lambda_l2': {'type': 'log_float', 'args': [1e-8, 10.0]},\n",
    "    'num_leaves': {'type': 'int', 'args': [2, 256]},\n",
    "    'feature_fraction': {'type': 'float', 'args': [0.4, 1.0]},\n",
    "    'bagging_fraction': {'type': 'float', 'args': [0.4, 1.0]},\n",
    "    'verbosity': -1\n",
    "}"
   ]
  },
  {
   "cell_type": "code",
   "execution_count": 3,
   "metadata": {},
   "outputs": [],
   "source": [
    "autoeval = AutoEvaluate(\n",
    "    task_type='tabledata binary classification',\n",
    "    dataset_name='titanic',\n",
    "    model_path='/Users/tanakatouma/vscode/auto-evaluate/test/lightgbm_model.py',\n",
    "    params=params,\n",
    "    valuation_index='logloss'\n",
    "    )"
   ]
  },
  {
   "cell_type": "code",
   "execution_count": 4,
   "metadata": {},
   "outputs": [
    {
     "name": "stderr",
     "output_type": "stream",
     "text": [
      "[I 2024-01-28 00:00:05,039] A new study created in memory with name: no-name-742c23ce-24e1-428a-b592-1f2793aa8e44\n",
      "[I 2024-01-28 00:00:05,192] Trial 0 finished with value: 0.005274430573623197 and parameters: {'lambda_l1': 9.229496558385723e-06, 'lambda_l2': 1.5296817533967837, 'num_leaves': 82, 'feature_fraction': 0.7237773477976225, 'bagging_fraction': 0.5452938528109427}. Best is trial 0 with value: 0.005274430573623197.\n",
      "[I 2024-01-28 00:00:05,290] Trial 1 finished with value: 1.3584388567438803e-05 and parameters: {'lambda_l1': 8.758618720867837e-05, 'lambda_l2': 0.00882372054299426, 'num_leaves': 181, 'feature_fraction': 0.9786452847063913, 'bagging_fraction': 0.6758647289378911}. Best is trial 0 with value: 0.005274430573623197.\n",
      "[I 2024-01-28 00:00:05,409] Trial 2 finished with value: 0.010551144459100137 and parameters: {'lambda_l1': 8.403346367070975e-07, 'lambda_l2': 5.216289581665287e-08, 'num_leaves': 19, 'feature_fraction': 0.5141784017788835, 'bagging_fraction': 0.9941503723947422}. Best is trial 2 with value: 0.010551144459100137.\n",
      "[I 2024-01-28 00:00:05,524] Trial 3 finished with value: 0.004546989535448062 and parameters: {'lambda_l1': 8.964767201018719e-06, 'lambda_l2': 3.210163353406519e-08, 'num_leaves': 117, 'feature_fraction': 0.6222949078135911, 'bagging_fraction': 0.8047340012932047}. Best is trial 2 with value: 0.010551144459100137.\n",
      "[I 2024-01-28 00:00:05,635] Trial 4 finished with value: 0.004796471647726244 and parameters: {'lambda_l1': 1.8356016251518824e-08, 'lambda_l2': 0.29767661028904063, 'num_leaves': 148, 'feature_fraction': 0.7734406317889879, 'bagging_fraction': 0.699029430296363}. Best is trial 2 with value: 0.010551144459100137.\n",
      "[I 2024-01-28 00:00:05,746] Trial 5 finished with value: 0.0032258652717162585 and parameters: {'lambda_l1': 5.421230633191234e-06, 'lambda_l2': 1.2498227711769113e-05, 'num_leaves': 203, 'feature_fraction': 0.8181163223937357, 'bagging_fraction': 0.678558466101923}. Best is trial 2 with value: 0.010551144459100137.\n",
      "[I 2024-01-28 00:00:05,875] Trial 6 finished with value: 0.00985127718569081 and parameters: {'lambda_l1': 0.00022554407919036222, 'lambda_l2': 9.195017477893194e-07, 'num_leaves': 198, 'feature_fraction': 0.5752235168050199, 'bagging_fraction': 0.584749661246075}. Best is trial 2 with value: 0.010551144459100137.\n",
      "[I 2024-01-28 00:00:05,983] Trial 7 finished with value: 1.194313229017941e-05 and parameters: {'lambda_l1': 1.171301721643406e-06, 'lambda_l2': 0.015715772363902706, 'num_leaves': 103, 'feature_fraction': 0.8706979892589245, 'bagging_fraction': 0.5827786425707419}. Best is trial 2 with value: 0.010551144459100137.\n",
      "[I 2024-01-28 00:00:06,080] Trial 8 finished with value: 5.246605375163209e-05 and parameters: {'lambda_l1': 1.0695000110591424e-05, 'lambda_l2': 5.684761638696971, 'num_leaves': 55, 'feature_fraction': 0.9288060766304174, 'bagging_fraction': 0.4591728180935049}. Best is trial 2 with value: 0.010551144459100137.\n",
      "[I 2024-01-28 00:00:06,214] Trial 9 finished with value: 0.009111433638787355 and parameters: {'lambda_l1': 2.8578351556225677e-06, 'lambda_l2': 6.226483361201276e-08, 'num_leaves': 94, 'feature_fraction': 0.5344942264901149, 'bagging_fraction': 0.47650382548773024}. Best is trial 2 with value: 0.010551144459100137.\n",
      "[I 2024-01-28 00:00:06,328] Trial 10 finished with value: 0.0171680182324347 and parameters: {'lambda_l1': 0.26696941500442095, 'lambda_l2': 3.089551932262688e-05, 'num_leaves': 6, 'feature_fraction': 0.42842649066932625, 'bagging_fraction': 0.9948663157624029}. Best is trial 10 with value: 0.0171680182324347.\n",
      "[I 2024-01-28 00:00:06,455] Trial 11 finished with value: 0.020143010378417866 and parameters: {'lambda_l1': 0.4619463521960732, 'lambda_l2': 2.2972755601807546e-05, 'num_leaves': 18, 'feature_fraction': 0.42294135529243115, 'bagging_fraction': 0.9949122670306048}. Best is trial 11 with value: 0.020143010378417866.\n",
      "[I 2024-01-28 00:00:06,562] Trial 12 finished with value: 0.034324119363832 and parameters: {'lambda_l1': 1.0341543862161173, 'lambda_l2': 7.27908768452954e-05, 'num_leaves': 4, 'feature_fraction': 0.40495801292904504, 'bagging_fraction': 0.9629397981759988}. Best is trial 12 with value: 0.034324119363832.\n",
      "[I 2024-01-28 00:00:06,672] Trial 13 finished with value: 0.16895833652631875 and parameters: {'lambda_l1': 6.401720958628098, 'lambda_l2': 0.0004823325610461196, 'num_leaves': 50, 'feature_fraction': 0.41661487285980364, 'bagging_fraction': 0.8727299657623763}. Best is trial 13 with value: 0.16895833652631875.\n",
      "[I 2024-01-28 00:00:06,778] Trial 14 finished with value: 0.16645214882051998 and parameters: {'lambda_l1': 6.268495127572839, 'lambda_l2': 0.00038903120662514345, 'num_leaves': 61, 'feature_fraction': 0.457975530913423, 'bagging_fraction': 0.8710760727680994}. Best is trial 13 with value: 0.16895833652631875.\n",
      "[I 2024-01-28 00:00:06,891] Trial 15 finished with value: 0.005582696984316969 and parameters: {'lambda_l1': 0.0171792581968823, 'lambda_l2': 0.0016469099317425314, 'num_leaves': 60, 'feature_fraction': 0.6451023891767297, 'bagging_fraction': 0.8571009755880163}. Best is trial 13 with value: 0.16895833652631875.\n",
      "[I 2024-01-28 00:00:07,002] Trial 16 finished with value: 0.2709889082315357 and parameters: {'lambda_l1': 9.755611975338672, 'lambda_l2': 0.002003676824149875, 'num_leaves': 246, 'feature_fraction': 0.49357249292620675, 'bagging_fraction': 0.8523584333588041}. Best is trial 16 with value: 0.2709889082315357.\n",
      "[I 2024-01-28 00:00:07,143] Trial 17 finished with value: 0.009085857918389678 and parameters: {'lambda_l1': 0.004017442745710856, 'lambda_l2': 0.09016873181558674, 'num_leaves': 234, 'feature_fraction': 0.4960297185376804, 'bagging_fraction': 0.7961206765964446}. Best is trial 16 with value: 0.2709889082315357.\n",
      "[I 2024-01-28 00:00:07,251] Trial 18 finished with value: 0.22856704858949808 and parameters: {'lambda_l1': 8.278702808233676, 'lambda_l2': 1.7133921122727058e-06, 'num_leaves': 253, 'feature_fraction': 0.5854054941730805, 'bagging_fraction': 0.9008965978080694}. Best is trial 16 with value: 0.2709889082315357.\n",
      "[I 2024-01-28 00:00:07,374] Trial 19 finished with value: 0.005541955145097393 and parameters: {'lambda_l1': 0.0200649597435539, 'lambda_l2': 2.7585223928634614e-06, 'num_leaves': 256, 'feature_fraction': 0.632191747830239, 'bagging_fraction': 0.7755247925187323}. Best is trial 16 with value: 0.2709889082315357.\n",
      "[I 2024-01-28 00:00:07,488] Trial 20 finished with value: 0.012949903716854635 and parameters: {'lambda_l1': 0.04060757771271227, 'lambda_l2': 5.708357517301549e-07, 'num_leaves': 148, 'feature_fraction': 0.5807523819313724, 'bagging_fraction': 0.9303157202212249}. Best is trial 16 with value: 0.2709889082315357.\n",
      "[I 2024-01-28 00:00:07,591] Trial 21 finished with value: 0.1225883280224177 and parameters: {'lambda_l1': 4.696762557134252, 'lambda_l2': 0.0007990813936558926, 'num_leaves': 255, 'feature_fraction': 0.4877656622747495, 'bagging_fraction': 0.8886519366296306}. Best is trial 16 with value: 0.2709889082315357.\n",
      "[I 2024-01-28 00:00:07,700] Trial 22 finished with value: 0.287128058180044 and parameters: {'lambda_l1': 9.93830047191476, 'lambda_l2': 0.003866025665279192, 'num_leaves': 230, 'feature_fraction': 0.5616348473017583, 'bagging_fraction': 0.7528599936910859}. Best is trial 22 with value: 0.287128058180044.\n",
      "[I 2024-01-28 00:00:07,804] Trial 23 finished with value: 0.014070338096262019 and parameters: {'lambda_l1': 0.20171881971545388, 'lambda_l2': 0.005773549319626348, 'num_leaves': 230, 'feature_fraction': 0.5615452017181687, 'bagging_fraction': 0.7541164530706261}. Best is trial 22 with value: 0.287128058180044.\n",
      "[I 2024-01-28 00:00:07,906] Trial 24 finished with value: 0.04294021112448673 and parameters: {'lambda_l1': 1.6212799802491173, 'lambda_l2': 0.04276071886958225, 'num_leaves': 222, 'feature_fraction': 0.6858732532300885, 'bagging_fraction': 0.7288507726929512}. Best is trial 22 with value: 0.287128058180044.\n",
      "[I 2024-01-28 00:00:08,026] Trial 25 finished with value: 0.004811775351950848 and parameters: {'lambda_l1': 0.0025091191998447317, 'lambda_l2': 0.00011355763431211862, 'num_leaves': 175, 'feature_fraction': 0.6789455541716504, 'bagging_fraction': 0.9210413228471215}. Best is trial 22 with value: 0.287128058180044.\n",
      "[I 2024-01-28 00:00:08,144] Trial 26 finished with value: 0.013108414043269784 and parameters: {'lambda_l1': 0.09223420359028259, 'lambda_l2': 0.002761040455231578, 'num_leaves': 238, 'feature_fraction': 0.5903780657588183, 'bagging_fraction': 0.8305907364675891}. Best is trial 22 with value: 0.287128058180044.\n",
      "[I 2024-01-28 00:00:08,255] Trial 27 finished with value: 0.04118295640528535 and parameters: {'lambda_l1': 1.5037892274201035, 'lambda_l2': 4.40358098125304e-06, 'num_leaves': 209, 'feature_fraction': 0.47773190059659787, 'bagging_fraction': 0.6246143765520497}. Best is trial 22 with value: 0.287128058180044.\n",
      "[I 2024-01-28 00:00:08,360] Trial 28 finished with value: 0.2466243852395319 and parameters: {'lambda_l1': 8.632193860079829, 'lambda_l2': 2.7814282279372974e-07, 'num_leaves': 183, 'feature_fraction': 0.7294388363416399, 'bagging_fraction': 0.9185320982377988}. Best is trial 22 with value: 0.287128058180044.\n",
      "[I 2024-01-28 00:00:08,483] Trial 29 finished with value: 0.004795313028629027 and parameters: {'lambda_l1': 0.004811636002673977, 'lambda_l2': 0.12099366973306502, 'num_leaves': 181, 'feature_fraction': 0.7394628819675972, 'bagging_fraction': 0.844372610955852}. Best is trial 22 with value: 0.287128058180044.\n",
      "[I 2024-01-28 00:00:08,586] Trial 30 finished with value: 0.028005816213366452 and parameters: {'lambda_l1': 1.028471229286049, 'lambda_l2': 0.0001216570179229393, 'num_leaves': 153, 'feature_fraction': 0.7286657996902396, 'bagging_fraction': 0.7327869940329679}. Best is trial 22 with value: 0.287128058180044.\n",
      "[I 2024-01-28 00:00:08,691] Trial 31 finished with value: 0.2424308484643473 and parameters: {'lambda_l1': 8.745553732951729, 'lambda_l2': 1.907859527240882e-07, 'num_leaves': 218, 'feature_fraction': 0.5365048795161366, 'bagging_fraction': 0.9228134064952984}. Best is trial 22 with value: 0.287128058180044.\n",
      "[I 2024-01-28 00:00:08,804] Trial 32 finished with value: 0.05835242513032498 and parameters: {'lambda_l1': 2.130881587951531, 'lambda_l2': 1.6898622947721295e-07, 'num_leaves': 218, 'feature_fraction': 0.5327404904154448, 'bagging_fraction': 0.9460074118681512}. Best is trial 22 with value: 0.287128058180044.\n",
      "[I 2024-01-28 00:00:08,906] Trial 33 finished with value: 0.2637385754057516 and parameters: {'lambda_l1': 9.539160453533198, 'lambda_l2': 2.581826047582263e-07, 'num_leaves': 193, 'feature_fraction': 0.7719396264932126, 'bagging_fraction': 0.8201190664081477}. Best is trial 22 with value: 0.287128058180044.\n",
      "[I 2024-01-28 00:00:09,009] Trial 34 finished with value: 0.010864017587644591 and parameters: {'lambda_l1': 0.44851108140727, 'lambda_l2': 1.9539932123553275e-08, 'num_leaves': 188, 'feature_fraction': 0.7785365144395364, 'bagging_fraction': 0.8226069714095053}. Best is trial 22 with value: 0.287128058180044.\n",
      "[I 2024-01-28 00:00:09,125] Trial 35 finished with value: 0.0012392694830551322 and parameters: {'lambda_l1': 1.1516975506089693e-07, 'lambda_l2': 0.702132494782221, 'num_leaves': 172, 'feature_fraction': 0.8295764552155238, 'bagging_fraction': 0.7809066055245505}. Best is trial 22 with value: 0.287128058180044.\n",
      "[I 2024-01-28 00:00:09,255] Trial 36 finished with value: 0.006954754365456392 and parameters: {'lambda_l1': 0.16240914511290927, 'lambda_l2': 0.010359110112617281, 'num_leaves': 164, 'feature_fraction': 0.7765752176036428, 'bagging_fraction': 0.646777425799467}. Best is trial 22 with value: 0.287128058180044.\n",
      "[I 2024-01-28 00:00:09,359] Trial 37 finished with value: 0.04942990919849658 and parameters: {'lambda_l1': 2.056729217254279, 'lambda_l2': 7.015739616428431e-06, 'num_leaves': 136, 'feature_fraction': 0.8776563839047777, 'bagging_fraction': 0.4037042723765515}. Best is trial 22 with value: 0.287128058180044.\n",
      "[I 2024-01-28 00:00:09,487] Trial 38 finished with value: 0.005925353380376953 and parameters: {'lambda_l1': 0.049528952568512315, 'lambda_l2': 1.0749050137578521e-08, 'num_leaves': 193, 'feature_fraction': 0.6636907831193695, 'bagging_fraction': 0.7090757923613921}. Best is trial 22 with value: 0.287128058180044.\n",
      "[I 2024-01-28 00:00:09,631] Trial 39 finished with value: 0.0043245224163594755 and parameters: {'lambda_l1': 0.00039500381076470857, 'lambda_l2': 0.03667538949930464, 'num_leaves': 205, 'feature_fraction': 0.8181257309099261, 'bagging_fraction': 0.8098853950626742}. Best is trial 22 with value: 0.287128058180044.\n",
      "[I 2024-01-28 00:00:09,738] Trial 40 finished with value: 1.2035780337377612e-05 and parameters: {'lambda_l1': 2.834201637872985e-05, 'lambda_l2': 3.8788873944076756e-07, 'num_leaves': 241, 'feature_fraction': 0.9798067790347058, 'bagging_fraction': 0.7579809138486071}. Best is trial 22 with value: 0.287128058180044.\n",
      "[I 2024-01-28 00:00:09,853] Trial 41 finished with value: 0.2739022322002574 and parameters: {'lambda_l1': 9.758461588685675, 'lambda_l2': 3.9086588013872e-07, 'num_leaves': 219, 'feature_fraction': 0.7070027043072863, 'bagging_fraction': 0.907231604471407}. Best is trial 22 with value: 0.287128058180044.\n",
      "[I 2024-01-28 00:00:09,963] Trial 42 finished with value: 0.08014798817412389 and parameters: {'lambda_l1': 3.029096922050592, 'lambda_l2': 6.789141653107197e-08, 'num_leaves': 211, 'feature_fraction': 0.7185076234171344, 'bagging_fraction': 0.9635804149913147}. Best is trial 22 with value: 0.287128058180044.\n",
      "[I 2024-01-28 00:00:10,068] Trial 43 finished with value: 0.017552365331775132 and parameters: {'lambda_l1': 0.5659784344160889, 'lambda_l2': 7.16698293575744e-08, 'num_leaves': 228, 'feature_fraction': 0.7620140119036428, 'bagging_fraction': 0.8993746298498138}. Best is trial 22 with value: 0.287128058180044.\n",
      "[I 2024-01-28 00:00:10,171] Trial 44 finished with value: 0.0797302105952044 and parameters: {'lambda_l1': 3.121445853604401, 'lambda_l2': 1.434275984235366e-06, 'num_leaves': 243, 'feature_fraction': 0.6945001710007291, 'bagging_fraction': 0.8379540240341208}. Best is trial 22 with value: 0.287128058180044.\n",
      "[I 2024-01-28 00:00:10,274] Trial 45 finished with value: 0.2836473139916721 and parameters: {'lambda_l1': 9.963135839230292, 'lambda_l2': 2.409171264233833e-07, 'num_leaves': 193, 'feature_fraction': 0.610261032627441, 'bagging_fraction': 0.8739833568375462}. Best is trial 22 with value: 0.287128058180044.\n",
      "[I 2024-01-28 00:00:10,378] Trial 46 finished with value: 0.016719864844213398 and parameters: {'lambda_l1': 0.5411552262674643, 'lambda_l2': 0.0034591898599882305, 'num_leaves': 197, 'feature_fraction': 0.6358147813475024, 'bagging_fraction': 0.8624613912065928}. Best is trial 22 with value: 0.287128058180044.\n",
      "[I 2024-01-28 00:00:10,511] Trial 47 finished with value: 0.00601274859591966 and parameters: {'lambda_l1': 1.0302167027838901e-08, 'lambda_l2': 0.0011539156849192805, 'num_leaves': 117, 'feature_fraction': 0.6191317000873671, 'bagging_fraction': 0.802197756171348}. Best is trial 22 with value: 0.287128058180044.\n",
      "[I 2024-01-28 00:00:10,618] Trial 48 finished with value: 0.033266784688309924 and parameters: {'lambda_l1': 0.9976296112117984, 'lambda_l2': 1.4050934709302223e-05, 'num_leaves': 158, 'feature_fraction': 0.45288786640148215, 'bagging_fraction': 0.6862247360457066}. Best is trial 22 with value: 0.287128058180044.\n",
      "[I 2024-01-28 00:00:10,731] Trial 49 finished with value: 0.26523202521976413 and parameters: {'lambda_l1': 9.418360251053784, 'lambda_l2': 0.00018513399666926863, 'num_leaves': 200, 'feature_fraction': 0.5485434343232994, 'bagging_fraction': 0.971415263502658}. Best is trial 22 with value: 0.287128058180044.\n",
      "[I 2024-01-28 00:00:10,831] Trial 50 finished with value: 0.08968158710761755 and parameters: {'lambda_l1': 3.5334239051197196, 'lambda_l2': 3.8346609847563706e-05, 'num_leaves': 247, 'feature_fraction': 0.6042734627635858, 'bagging_fraction': 0.9559752319800087}. Best is trial 22 with value: 0.287128058180044.\n",
      "[I 2024-01-28 00:00:10,941] Trial 51 finished with value: 0.09829888685522387 and parameters: {'lambda_l1': 3.8152462974558, 'lambda_l2': 7.485740571117223e-07, 'num_leaves': 201, 'feature_fraction': 0.5518789200309844, 'bagging_fraction': 0.9841100928179743}. Best is trial 22 with value: 0.287128058180044.\n",
      "[I 2024-01-28 00:00:11,045] Trial 52 finished with value: 0.18771687507709525 and parameters: {'lambda_l1': 7.1025580240092365, 'lambda_l2': 8.552848608202702, 'num_leaves': 222, 'feature_fraction': 0.5247333629297876, 'bagging_fraction': 0.8826307790778171}. Best is trial 22 with value: 0.287128058180044.\n",
      "[I 2024-01-28 00:00:11,152] Trial 53 finished with value: 0.27419624830602324 and parameters: {'lambda_l1': 9.757022164544432, 'lambda_l2': 0.00026351873902471184, 'num_leaves': 211, 'feature_fraction': 0.66382269511444, 'bagging_fraction': 0.8526521511651556}. Best is trial 22 with value: 0.287128058180044.\n",
      "[I 2024-01-28 00:00:11,260] Trial 54 finished with value: 0.030741549232581267 and parameters: {'lambda_l1': 1.162701841887287, 'lambda_l2': 0.00023398310607665015, 'num_leaves': 211, 'feature_fraction': 0.6063855862917246, 'bagging_fraction': 0.9030187067223379}. Best is trial 22 with value: 0.287128058180044.\n",
      "[I 2024-01-28 00:00:11,378] Trial 55 finished with value: 0.01597886071858122 and parameters: {'lambda_l1': 0.6030844383642663, 'lambda_l2': 0.0002677085799636417, 'num_leaves': 232, 'feature_fraction': 0.6550864336331719, 'bagging_fraction': 0.9711973664570371}. Best is trial 22 with value: 0.287128058180044.\n",
      "[I 2024-01-28 00:00:11,491] Trial 56 finished with value: 0.013355792890333474 and parameters: {'lambda_l1': 0.207675962890653, 'lambda_l2': 0.015226271492303347, 'num_leaves': 226, 'feature_fraction': 0.5061829707746233, 'bagging_fraction': 0.9439666365946865}. Best is trial 22 with value: 0.287128058180044.\n",
      "[I 2024-01-28 00:00:11,601] Trial 57 finished with value: 0.09560603937418405 and parameters: {'lambda_l1': 3.626334492716353, 'lambda_l2': 0.0005762936249421516, 'num_leaves': 214, 'feature_fraction': 0.566939606026616, 'bagging_fraction': 0.8597959753167373}. Best is trial 22 with value: 0.287128058180044.\n",
      "[I 2024-01-28 00:00:11,714] Trial 58 finished with value: 0.05723377481808075 and parameters: {'lambda_l1': 2.036245656706789, 'lambda_l2': 0.0028859184028827817, 'num_leaves': 246, 'feature_fraction': 0.5551309385565548, 'bagging_fraction': 0.5534522664812632}. Best is trial 22 with value: 0.287128058180044.\n",
      "[I 2024-01-28 00:00:11,848] Trial 59 finished with value: 0.0106783930878504 and parameters: {'lambda_l1': 3.6858329171388435e-07, 'lambda_l2': 5.8157497456601335e-05, 'num_leaves': 82, 'feature_fraction': 0.44621588476110463, 'bagging_fraction': 0.776051153418673}. Best is trial 22 with value: 0.287128058180044.\n",
      "[I 2024-01-28 00:00:11,960] Trial 60 finished with value: 0.2597655477048007 and parameters: {'lambda_l1': 9.320593626359374, 'lambda_l2': 0.02540353883808981, 'num_leaves': 202, 'feature_fraction': 0.4749920070311533, 'bagging_fraction': 0.84985916086127}. Best is trial 22 with value: 0.287128058180044.\n",
      "[I 2024-01-28 00:00:12,067] Trial 61 finished with value: 0.13039733169027348 and parameters: {'lambda_l1': 4.962963976241501, 'lambda_l2': 0.005426628373900231, 'num_leaves': 172, 'feature_fraction': 0.6571678758221152, 'bagging_fraction': 0.8191014965218739}. Best is trial 22 with value: 0.287128058180044.\n",
      "[I 2024-01-28 00:00:12,172] Trial 62 finished with value: 0.27175541040522716 and parameters: {'lambda_l1': 9.930978236369933, 'lambda_l2': 0.0014852921413485778, 'num_leaves': 195, 'feature_fraction': 0.7023383494692325, 'bagging_fraction': 0.8778537919368753}. Best is trial 22 with value: 0.287128058180044.\n",
      "[I 2024-01-28 00:00:12,279] Trial 63 finished with value: 0.28572148018565585 and parameters: {'lambda_l1': 9.959331345099113, 'lambda_l2': 0.00016493050760776396, 'num_leaves': 235, 'feature_fraction': 0.6779381436606433, 'bagging_fraction': 0.8759606084190616}. Best is trial 22 with value: 0.287128058180044.\n",
      "[I 2024-01-28 00:00:12,390] Trial 64 finished with value: 0.025009447269554026 and parameters: {'lambda_l1': 1.025044476048266, 'lambda_l2': 0.0007477257744956042, 'num_leaves': 234, 'feature_fraction': 0.7076576406903883, 'bagging_fraction': 0.884816552847992}. Best is trial 22 with value: 0.287128058180044.\n",
      "[I 2024-01-28 00:00:12,498] Trial 65 finished with value: 0.10108634344836853 and parameters: {'lambda_l1': 3.9120639157790666, 'lambda_l2': 0.0018868036349055596, 'num_leaves': 248, 'feature_fraction': 0.6782379921215358, 'bagging_fraction': 0.873138363614118}. Best is trial 22 with value: 0.287128058180044.\n",
      "[I 2024-01-28 00:00:12,608] Trial 66 finished with value: 0.05233234553839503 and parameters: {'lambda_l1': 2.011537558572833, 'lambda_l2': 0.005714268204995326, 'num_leaves': 238, 'feature_fraction': 0.7423128253972039, 'bagging_fraction': 0.910079231206755}. Best is trial 22 with value: 0.287128058180044.\n",
      "[I 2024-01-28 00:00:12,713] Trial 67 finished with value: 0.014116839590722028 and parameters: {'lambda_l1': 0.32030159722364276, 'lambda_l2': 0.0003950627111316241, 'num_leaves': 220, 'feature_fraction': 0.6270181874013953, 'bagging_fraction': 0.9361560075979377}. Best is trial 22 with value: 0.287128058180044.\n",
      "[I 2024-01-28 00:00:12,862] Trial 68 finished with value: 0.021636708177215153 and parameters: {'lambda_l1': 0.8310830549654988, 'lambda_l2': 0.0012823105114687905, 'num_leaves': 186, 'feature_fraction': 0.6697815101164468, 'bagging_fraction': 0.8367280367415948}. Best is trial 22 with value: 0.287128058180044.\n",
      "[I 2024-01-28 00:00:12,996] Trial 69 finished with value: 0.1442118501206671 and parameters: {'lambda_l1': 5.398914170190548, 'lambda_l2': 1.633604074131658e-05, 'num_leaves': 227, 'feature_fraction': 0.7035076072822923, 'bagging_fraction': 0.7918765978792194}. Best is trial 22 with value: 0.287128058180044.\n",
      "[I 2024-01-28 00:00:13,111] Trial 70 finished with value: 0.008193773251049462 and parameters: {'lambda_l1': 0.12687737214557754, 'lambda_l2': 0.09743485362116286, 'num_leaves': 250, 'feature_fraction': 0.6481224693396727, 'bagging_fraction': 0.891863176771592}. Best is trial 22 with value: 0.287128058180044.\n",
      "[I 2024-01-28 00:00:13,230] Trial 71 finished with value: 0.2743944780259412 and parameters: {'lambda_l1': 9.995849436433435, 'lambda_l2': 0.00012129420868436839, 'num_leaves': 209, 'feature_fraction': 0.5836771246040577, 'bagging_fraction': 0.9787907595456322}. Best is trial 22 with value: 0.287128058180044.\n",
      "[I 2024-01-28 00:00:13,340] Trial 72 finished with value: 0.052859824899757844 and parameters: {'lambda_l1': 2.101482051455559, 'lambda_l2': 0.00011381688989056623, 'num_leaves': 212, 'feature_fraction': 0.6083948931555819, 'bagging_fraction': 0.9961844721084134}. Best is trial 22 with value: 0.287128058180044.\n",
      "[I 2024-01-28 00:00:13,482] Trial 73 finished with value: 0.11575919264444594 and parameters: {'lambda_l1': 4.587594721175435, 'lambda_l2': 5.766831659451944e-05, 'num_leaves': 236, 'feature_fraction': 0.5837851384136045, 'bagging_fraction': 0.9198504449123613}. Best is trial 22 with value: 0.287128058180044.\n",
      "[I 2024-01-28 00:00:13,585] Trial 74 finished with value: 0.2452251059985501 and parameters: {'lambda_l1': 9.206584830602942, 'lambda_l2': 6.103184240733265e-06, 'num_leaves': 207, 'feature_fraction': 0.7520863393939958, 'bagging_fraction': 0.8706229548273043}. Best is trial 22 with value: 0.287128058180044.\n",
      "[I 2024-01-28 00:00:13,697] Trial 75 finished with value: 0.03924973886783303 and parameters: {'lambda_l1': 1.5431157240437743, 'lambda_l2': 0.0011523119696956036, 'num_leaves': 219, 'feature_fraction': 0.6891229740416824, 'bagging_fraction': 0.7526653111082838}. Best is trial 22 with value: 0.287128058180044.\n",
      "[I 2024-01-28 00:00:13,825] Trial 76 finished with value: 0.011352807112401378 and parameters: {'lambda_l1': 0.0008333868866457209, 'lambda_l2': 2.2503815676989375e-06, 'num_leaves': 191, 'feature_fraction': 0.5145689947073937, 'bagging_fraction': 0.848590143208458}. Best is trial 22 with value: 0.287128058180044.\n",
      "[I 2024-01-28 00:00:13,967] Trial 77 finished with value: 0.004479911450079526 and parameters: {'lambda_l1': 8.332049318031592e-05, 'lambda_l2': 1.132061551081519e-07, 'num_leaves': 182, 'feature_fraction': 0.6359240924718345, 'bagging_fraction': 0.9038215296396822}. Best is trial 22 with value: 0.287128058180044.\n",
      "[I 2024-01-28 00:00:14,084] Trial 78 finished with value: 0.1529795356873688 and parameters: {'lambda_l1': 5.769369127059976, 'lambda_l2': 3.0730247604070635e-05, 'num_leaves': 254, 'feature_fraction': 0.6014847706712849, 'bagging_fraction': 0.6501931322900316}. Best is trial 22 with value: 0.287128058180044.\n",
      "[I 2024-01-28 00:00:14,201] Trial 79 finished with value: 0.01748016888014588 and parameters: {'lambda_l1': 0.3149304374057665, 'lambda_l2': 2.6311128982181667e-08, 'num_leaves': 44, 'feature_fraction': 0.5715476141954001, 'bagging_fraction': 0.9334446436893034}. Best is trial 22 with value: 0.287128058180044.\n",
      "[I 2024-01-28 00:00:14,312] Trial 80 finished with value: 0.06702476066361562 and parameters: {'lambda_l1': 2.617403344342937, 'lambda_l2': 0.00015793105834077643, 'num_leaves': 226, 'feature_fraction': 0.7008042459477013, 'bagging_fraction': 0.883188215897911}. Best is trial 22 with value: 0.287128058180044.\n",
      "[I 2024-01-28 00:00:14,427] Trial 81 finished with value: 0.2751975753400857 and parameters: {'lambda_l1': 9.81922019978991, 'lambda_l2': 0.00022726420806523016, 'num_leaves': 201, 'feature_fraction': 0.5513587784687044, 'bagging_fraction': 0.9522498199503768}. Best is trial 22 with value: 0.287128058180044.\n",
      "[I 2024-01-28 00:00:14,537] Trial 82 finished with value: 0.15261421146469836 and parameters: {'lambda_l1': 5.701779079418459, 'lambda_l2': 0.00040964642784045924, 'num_leaves': 197, 'feature_fraction': 0.7188736037042835, 'bagging_fraction': 0.9540977780050979}. Best is trial 22 with value: 0.287128058180044.\n",
      "[I 2024-01-28 00:00:14,647] Trial 83 finished with value: 0.29103709878286954 and parameters: {'lambda_l1': 9.956799446033404, 'lambda_l2': 0.009638879374680033, 'num_leaves': 178, 'feature_fraction': 0.4963908554751787, 'bagging_fraction': 0.9857583490651972}. Best is trial 83 with value: 0.29103709878286954.\n",
      "[I 2024-01-28 00:00:14,760] Trial 84 finished with value: 0.07492553116072707 and parameters: {'lambda_l1': 2.883922442369104, 'lambda_l2': 0.01662112574305789, 'num_leaves': 178, 'feature_fraction': 0.543048670535473, 'bagging_fraction': 0.9752697238606578}. Best is trial 83 with value: 0.29103709878286954.\n",
      "[I 2024-01-28 00:00:14,864] Trial 85 finished with value: 0.26592202314642943 and parameters: {'lambda_l1': 9.692794565644862, 'lambda_l2': 0.0006072402560591053, 'num_leaves': 142, 'feature_fraction': 0.795374228383963, 'bagging_fraction': 0.9865833885063058}. Best is trial 83 with value: 0.29103709878286954.\n",
      "[I 2024-01-28 00:00:14,967] Trial 86 finished with value: 0.040683431312158215 and parameters: {'lambda_l1': 1.4701986831592433, 'lambda_l2': 0.008865691719205895, 'num_leaves': 169, 'feature_fraction': 0.593935804430356, 'bagging_fraction': 0.9401001741159402}. Best is trial 83 with value: 0.29103709878286954.\n",
      "[I 2024-01-28 00:00:15,101] Trial 87 finished with value: 0.1389165572070226 and parameters: {'lambda_l1': 5.3204397734157975, 'lambda_l2': 0.3182592284881765, 'num_leaves': 206, 'feature_fraction': 0.6697049913237093, 'bagging_fraction': 0.9189330225342671}. Best is trial 83 with value: 0.29103709878286954.\n",
      "[I 2024-01-28 00:00:15,225] Trial 88 finished with value: 0.019552353732170995 and parameters: {'lambda_l1': 0.727169304694732, 'lambda_l2': 0.04896731589331557, 'num_leaves': 192, 'feature_fraction': 0.6182444868656294, 'bagging_fraction': 0.9982580793242276}. Best is trial 83 with value: 0.29103709878286954.\n",
      "[I 2024-01-28 00:00:15,343] Trial 89 finished with value: 0.08146719075131165 and parameters: {'lambda_l1': 3.208293230267868, 'lambda_l2': 8.384385255766816e-05, 'num_leaves': 214, 'feature_fraction': 0.511544501934139, 'bagging_fraction': 0.9594119332481391}. Best is trial 83 with value: 0.29103709878286954.\n",
      "[I 2024-01-28 00:00:15,453] Trial 90 finished with value: 0.14390256392630324 and parameters: {'lambda_l1': 5.544806955855058, 'lambda_l2': 1.1129532421360458e-06, 'num_leaves': 163, 'feature_fraction': 0.6400863154374403, 'bagging_fraction': 0.9483548856615291}. Best is trial 83 with value: 0.29103709878286954.\n",
      "[I 2024-01-28 00:00:15,564] Trial 91 finished with value: 0.25567027956296656 and parameters: {'lambda_l1': 9.45240000274612, 'lambda_l2': 0.0018441169738543915, 'num_leaves': 223, 'feature_fraction': 0.49384434668962984, 'bagging_fraction': 0.8665340766369561}. Best is trial 83 with value: 0.29103709878286954.\n",
      "[I 2024-01-28 00:00:15,686] Trial 92 finished with value: 0.04108881653819805 and parameters: {'lambda_l1': 1.4315635170364884, 'lambda_l2': 0.003238832786994116, 'num_leaves': 240, 'feature_fraction': 0.4786947679031045, 'bagging_fraction': 0.9104377936784409}. Best is trial 83 with value: 0.29103709878286954.\n",
      "[I 2024-01-28 00:00:15,846] Trial 93 finished with value: 0.1539022363868402 and parameters: {'lambda_l1': 5.812576998020471, 'lambda_l2': 0.004258872982012406, 'num_leaves': 231, 'feature_fraction': 0.46584727298820233, 'bagging_fraction': 0.9804268249996884}. Best is trial 83 with value: 0.29103709878286954.\n",
      "[I 2024-01-28 00:00:15,967] Trial 94 finished with value: 0.07142023940403162 and parameters: {'lambda_l1': 2.711510757808022, 'lambda_l2': 0.00027291205623320244, 'num_leaves': 197, 'feature_fraction': 0.5322530974267854, 'bagging_fraction': 0.8324341972860823}. Best is trial 83 with value: 0.29103709878286954.\n",
      "[I 2024-01-28 00:00:16,117] Trial 95 finished with value: 0.17573285646056935 and parameters: {'lambda_l1': 6.484969288787069, 'lambda_l2': 0.001006273596395853, 'num_leaves': 216, 'feature_fraction': 0.44036682065363825, 'bagging_fraction': 0.8910626198824869}. Best is trial 83 with value: 0.29103709878286954.\n",
      "[I 2024-01-28 00:00:16,255] Trial 96 finished with value: 0.10838487039354028 and parameters: {'lambda_l1': 4.081205443437691, 'lambda_l2': 0.002386081970993816, 'num_leaves': 187, 'feature_fraction': 0.575166641141329, 'bagging_fraction': 0.9281588217485226}. Best is trial 83 with value: 0.29103709878286954.\n",
      "[I 2024-01-28 00:00:16,376] Trial 97 finished with value: 0.27517119482083935 and parameters: {'lambda_l1': 9.868969741409499, 'lambda_l2': 4.45252169096453e-07, 'num_leaves': 205, 'feature_fraction': 0.5016492466886656, 'bagging_fraction': 0.8095221974446517}. Best is trial 83 with value: 0.29103709878286954.\n",
      "[I 2024-01-28 00:00:16,500] Trial 98 finished with value: 0.05038863691634662 and parameters: {'lambda_l1': 1.824720366602023, 'lambda_l2': 5.980414051885834e-07, 'num_leaves': 209, 'feature_fraction': 0.5532948688602352, 'bagging_fraction': 0.8062859619311568}. Best is trial 83 with value: 0.29103709878286954.\n",
      "[I 2024-01-28 00:00:16,616] Trial 99 finished with value: 0.06429941660156922 and parameters: {'lambda_l1': 2.540234887150301, 'lambda_l2': 4.1462319984583425e-08, 'num_leaves': 203, 'feature_fraction': 0.9396747928155595, 'bagging_fraction': 0.7133223382156695}. Best is trial 83 with value: 0.29103709878286954.\n"
     ]
    }
   ],
   "source": [
    "autoeval.exec()"
   ]
  },
  {
   "cell_type": "code",
   "execution_count": null,
   "metadata": {},
   "outputs": [],
   "source": []
  }
 ],
 "metadata": {
  "kernelspec": {
   "display_name": ".venv",
   "language": "python",
   "name": "python3"
  },
  "language_info": {
   "codemirror_mode": {
    "name": "ipython",
    "version": 3
   },
   "file_extension": ".py",
   "mimetype": "text/x-python",
   "name": "python",
   "nbconvert_exporter": "python",
   "pygments_lexer": "ipython3",
   "version": "3.9.18"
  }
 },
 "nbformat": 4,
 "nbformat_minor": 2
}
