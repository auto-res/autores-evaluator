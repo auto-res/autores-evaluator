{
 "cells": [
  {
   "cell_type": "code",
   "execution_count": 1,
   "metadata": {},
   "outputs": [
    {
     "name": "stderr",
     "output_type": "stream",
     "text": [
      "/Users/tanakatouma/vscode/auto-evaluate/.venv/lib/python3.9/site-packages/tqdm/auto.py:21: TqdmWarning: IProgress not found. Please update jupyter and ipywidgets. See https://ipywidgets.readthedocs.io/en/stable/user_install.html\n",
      "  from .autonotebook import tqdm as notebook_tqdm\n"
     ]
    }
   ],
   "source": [
    "import sys\n",
    "sys.path.append('..')\n",
    "\n",
    "from src.autoevaluate.main import AutoEvaluate"
   ]
  },
  {
   "cell_type": "code",
   "execution_count": 2,
   "metadata": {},
   "outputs": [],
   "source": [
    "params = {\n",
    "    'lambda_l1': {'type': 'log_float', 'args': [1e-8, 10.0]},\n",
    "    'lambda_l2': {'type': 'log_float', 'args': [1e-8, 10.0]},\n",
    "    'num_leaves': {'type': 'int', 'args': [2, 256]},\n",
    "    'feature_fraction': {'type': 'float', 'args': [0.4, 1.0]},\n",
    "    'bagging_fraction': {'type': 'float', 'args': [0.4, 1.0]},\n",
    "    'verbosity': -1\n",
    "}"
   ]
  },
  {
   "cell_type": "code",
   "execution_count": 3,
   "metadata": {},
   "outputs": [],
   "source": [
    "autoeval = AutoEvaluate(\n",
    "    task_type='tabledata binary classification',\n",
    "    dataset_name='titanic',\n",
    "    model_path='/Users/tanakatouma/vscode/auto-evaluate/test/lightgbm_model.py',\n",
    "    params=params,\n",
    "    valuation_index='pr_auc'\n",
    "    )"
   ]
  },
  {
   "cell_type": "code",
   "execution_count": 4,
   "metadata": {},
   "outputs": [
    {
     "name": "stderr",
     "output_type": "stream",
     "text": [
      "[I 2024-01-28 11:17:48,290] A new study created in memory with name: no-name-faa217c0-f255-40cb-9e61-dc0e6a179d41\n",
      "[I 2024-01-28 11:17:48,486] Trial 0 finished with value: 1.0 and parameters: {'lambda_l1': 1.2029890270219295e-08, 'lambda_l2': 6.546207500552703e-07, 'num_leaves': 191, 'feature_fraction': 0.7790242104115738, 'bagging_fraction': 0.9690165226222464}. Best is trial 0 with value: 1.0.\n",
      "[I 2024-01-28 11:17:48,604] Trial 1 finished with value: 1.0 and parameters: {'lambda_l1': 0.0002711667660655332, 'lambda_l2': 0.006360162780034722, 'num_leaves': 170, 'feature_fraction': 0.92160810065368, 'bagging_fraction': 0.9164444309121372}. Best is trial 0 with value: 1.0.\n",
      "[I 2024-01-28 11:17:48,710] Trial 2 finished with value: 1.0 and parameters: {'lambda_l1': 0.00038193988271073093, 'lambda_l2': 0.07308749233515129, 'num_leaves': 254, 'feature_fraction': 0.8804286703781872, 'bagging_fraction': 0.5883291322906457}. Best is trial 0 with value: 1.0.\n",
      "[I 2024-01-28 11:17:48,829] Trial 3 finished with value: 1.0 and parameters: {'lambda_l1': 9.873417013313832e-07, 'lambda_l2': 0.0018058629325029, 'num_leaves': 7, 'feature_fraction': 0.7257282861523018, 'bagging_fraction': 0.5532641940721623}. Best is trial 0 with value: 1.0.\n",
      "[I 2024-01-28 11:17:48,948] Trial 4 finished with value: 1.0 and parameters: {'lambda_l1': 1.3525876010663336e-05, 'lambda_l2': 5.5965712630011334e-05, 'num_leaves': 241, 'feature_fraction': 0.5567042848345551, 'bagging_fraction': 0.926425806058062}. Best is trial 0 with value: 1.0.\n",
      "[I 2024-01-28 11:17:49,057] Trial 5 finished with value: 1.0 and parameters: {'lambda_l1': 0.092265350860284, 'lambda_l2': 1.924171187326764, 'num_leaves': 234, 'feature_fraction': 0.7934476196254137, 'bagging_fraction': 0.7795497457963079}. Best is trial 0 with value: 1.0.\n",
      "[I 2024-01-28 11:17:49,151] Trial 6 finished with value: 1.0 and parameters: {'lambda_l1': 2.1424533855119587e-07, 'lambda_l2': 0.06561676217591801, 'num_leaves': 5, 'feature_fraction': 0.9893215313371302, 'bagging_fraction': 0.5638602829595805}. Best is trial 0 with value: 1.0.\n",
      "[I 2024-01-28 11:17:49,255] Trial 7 finished with value: 1.0 and parameters: {'lambda_l1': 0.00039825778851296055, 'lambda_l2': 2.082822802893272, 'num_leaves': 182, 'feature_fraction': 0.6976672937683962, 'bagging_fraction': 0.6467805128834739}. Best is trial 0 with value: 1.0.\n",
      "[I 2024-01-28 11:17:49,364] Trial 8 finished with value: 1.0 and parameters: {'lambda_l1': 2.434313034199935e-08, 'lambda_l2': 3.826609090741911, 'num_leaves': 141, 'feature_fraction': 0.46475502960997445, 'bagging_fraction': 0.6845587588506772}. Best is trial 0 with value: 1.0.\n",
      "[I 2024-01-28 11:17:49,463] Trial 9 finished with value: 1.0 and parameters: {'lambda_l1': 0.021725336684115394, 'lambda_l2': 3.90466426298495e-08, 'num_leaves': 75, 'feature_fraction': 0.8633232882636802, 'bagging_fraction': 0.8713987336394151}. Best is trial 0 with value: 1.0.\n",
      "[I 2024-01-28 11:17:49,570] Trial 10 finished with value: 1.0 and parameters: {'lambda_l1': 3.9549558734430903, 'lambda_l2': 1.1387437388248083e-06, 'num_leaves': 90, 'feature_fraction': 0.6455210267795415, 'bagging_fraction': 0.4171450142754718}. Best is trial 0 with value: 1.0.\n",
      "[I 2024-01-28 11:17:49,678] Trial 11 finished with value: 1.0 and parameters: {'lambda_l1': 2.697660477748842e-06, 'lambda_l2': 4.409081409413168e-05, 'num_leaves': 175, 'feature_fraction': 0.9880947848391466, 'bagging_fraction': 0.9967399597819345}. Best is trial 0 with value: 1.0.\n",
      "[I 2024-01-28 11:17:49,795] Trial 12 finished with value: 1.0 and parameters: {'lambda_l1': 1.2859761277401936e-08, 'lambda_l2': 8.04931742082301e-07, 'num_leaves': 190, 'feature_fraction': 0.8787113026122356, 'bagging_fraction': 0.8292868459284253}. Best is trial 0 with value: 1.0.\n",
      "[I 2024-01-28 11:17:49,925] Trial 13 finished with value: 1.0 and parameters: {'lambda_l1': 2.932089644806849e-05, 'lambda_l2': 0.0027003262738220166, 'num_leaves': 135, 'feature_fraction': 0.796160657075979, 'bagging_fraction': 0.9911565598312347}. Best is trial 0 with value: 1.0.\n",
      "[I 2024-01-28 11:17:50,032] Trial 14 finished with value: 1.0 and parameters: {'lambda_l1': 0.007248873123820297, 'lambda_l2': 2.258810955445764e-08, 'num_leaves': 201, 'feature_fraction': 0.9284125837968566, 'bagging_fraction': 0.7720416201946415}. Best is trial 0 with value: 1.0.\n",
      "[I 2024-01-28 11:17:50,143] Trial 15 finished with value: 1.0 and parameters: {'lambda_l1': 0.9370129745900977, 'lambda_l2': 2.5995040736175574e-06, 'num_leaves': 103, 'feature_fraction': 0.7627419292469922, 'bagging_fraction': 0.9085301664071963}. Best is trial 0 with value: 1.0.\n",
      "[I 2024-01-28 11:17:50,282] Trial 16 finished with value: 1.0 and parameters: {'lambda_l1': 4.8742111947331906e-05, 'lambda_l2': 0.014962550303552731, 'num_leaves': 214, 'feature_fraction': 0.6389419031475146, 'bagging_fraction': 0.7753389150312725}. Best is trial 0 with value: 1.0.\n",
      "[I 2024-01-28 11:17:50,409] Trial 17 finished with value: 1.0 and parameters: {'lambda_l1': 0.0029165886856050297, 'lambda_l2': 0.0001251287954384763, 'num_leaves': 152, 'feature_fraction': 0.8318180703239437, 'bagging_fraction': 0.9411324653511385}. Best is trial 0 with value: 1.0.\n",
      "[I 2024-01-28 11:17:50,521] Trial 18 finished with value: 1.0 and parameters: {'lambda_l1': 1.4271418629243704e-07, 'lambda_l2': 8.371273796993793e-06, 'num_leaves': 161, 'feature_fraction': 0.9230014233783168, 'bagging_fraction': 0.8408717445220915}. Best is trial 0 with value: 1.0.\n",
      "[I 2024-01-28 11:17:50,689] Trial 19 finished with value: 1.0 and parameters: {'lambda_l1': 0.22061060072504532, 'lambda_l2': 2.656978036603437e-07, 'num_leaves': 117, 'feature_fraction': 0.5627500327332848, 'bagging_fraction': 0.9560140557020168}. Best is trial 0 with value: 1.0.\n",
      "[I 2024-01-28 11:17:50,801] Trial 20 finished with value: 1.0 and parameters: {'lambda_l1': 1.6369093796139646e-06, 'lambda_l2': 0.0011704606041021892, 'num_leaves': 61, 'feature_fraction': 0.9371685187167342, 'bagging_fraction': 0.8824966057626186}. Best is trial 0 with value: 1.0.\n",
      "[I 2024-01-28 11:17:50,945] Trial 21 finished with value: 1.0 and parameters: {'lambda_l1': 0.0007657472012923688, 'lambda_l2': 0.2234143252707147, 'num_leaves': 252, 'feature_fraction': 0.8675737212749675, 'bagging_fraction': 0.5754335589762078}. Best is trial 0 with value: 1.0.\n",
      "[I 2024-01-28 11:17:51,068] Trial 22 finished with value: 1.0 and parameters: {'lambda_l1': 4.482510587950636e-05, 'lambda_l2': 0.024717243162330146, 'num_leaves': 214, 'feature_fraction': 0.8317271860315516, 'bagging_fraction': 0.472541933219378}. Best is trial 0 with value: 1.0.\n",
      "[I 2024-01-28 11:17:51,185] Trial 23 finished with value: 1.0 and parameters: {'lambda_l1': 0.0002883064947132113, 'lambda_l2': 0.3160510141336142, 'num_leaves': 224, 'feature_fraction': 0.9072473001792541, 'bagging_fraction': 0.6062438048101587}. Best is trial 0 with value: 1.0.\n",
      "[I 2024-01-28 11:17:51,301] Trial 24 finished with value: 1.0 and parameters: {'lambda_l1': 0.0016672692148047437, 'lambda_l2': 0.007467536535057515, 'num_leaves': 166, 'feature_fraction': 0.7510295876511448, 'bagging_fraction': 0.7232838579112945}. Best is trial 0 with value: 1.0.\n",
      "[I 2024-01-28 11:17:51,425] Trial 25 finished with value: 1.0 and parameters: {'lambda_l1': 0.0001831797914996931, 'lambda_l2': 0.0004267828748761249, 'num_leaves': 204, 'feature_fraction': 0.6758004896779813, 'bagging_fraction': 0.5011845946132969}. Best is trial 0 with value: 1.0.\n",
      "[I 2024-01-28 11:17:51,538] Trial 26 finished with value: 1.0 and parameters: {'lambda_l1': 7.0729898895689435e-06, 'lambda_l2': 0.2414751638240064, 'num_leaves': 254, 'feature_fraction': 0.810039318093273, 'bagging_fraction': 0.6612260074517483}. Best is trial 0 with value: 1.0.\n",
      "[I 2024-01-28 11:17:51,646] Trial 27 finished with value: 1.0 and parameters: {'lambda_l1': 0.018794815980191962, 'lambda_l2': 1.2590447497323487e-05, 'num_leaves': 186, 'feature_fraction': 0.9687506030220351, 'bagging_fraction': 0.8306550695798972}. Best is trial 0 with value: 1.0.\n",
      "[I 2024-01-28 11:17:51,752] Trial 28 finished with value: 1.0 and parameters: {'lambda_l1': 1.5297463664277136e-07, 'lambda_l2': 1.1902235877208762e-07, 'num_leaves': 123, 'feature_fraction': 0.8848548562580353, 'bagging_fraction': 0.7349996674472682}. Best is trial 0 with value: 1.0.\n",
      "[I 2024-01-28 11:17:51,864] Trial 29 finished with value: 1.0 and parameters: {'lambda_l1': 5.022541499987909e-07, 'lambda_l2': 0.0029740552707287825, 'num_leaves': 35, 'feature_fraction': 0.7502662766654846, 'bagging_fraction': 0.6158187069171315}. Best is trial 0 with value: 1.0.\n",
      "[I 2024-01-28 11:17:51,973] Trial 30 finished with value: 1.0 and parameters: {'lambda_l1': 0.00017174522751005412, 'lambda_l2': 0.0004932340226122662, 'num_leaves': 228, 'feature_fraction': 0.9497633923759806, 'bagging_fraction': 0.9565110971784634}. Best is trial 0 with value: 1.0.\n",
      "[I 2024-01-28 11:17:52,095] Trial 31 finished with value: 1.0 and parameters: {'lambda_l1': 7.126181637102344e-06, 'lambda_l2': 0.030425243642282114, 'num_leaves': 35, 'feature_fraction': 0.7442716420271211, 'bagging_fraction': 0.5252071526128925}. Best is trial 0 with value: 1.0.\n",
      "[I 2024-01-28 11:17:52,236] Trial 32 finished with value: 1.0 and parameters: {'lambda_l1': 4.7635073561404626e-08, 'lambda_l2': 0.00486681832829983, 'num_leaves': 150, 'feature_fraction': 0.6076771218305436, 'bagging_fraction': 0.5368746506813497}. Best is trial 0 with value: 1.0.\n",
      "[I 2024-01-28 11:17:52,363] Trial 33 finished with value: 1.0 and parameters: {'lambda_l1': 8.372903075301597e-07, 'lambda_l2': 0.07324042680023109, 'num_leaves': 242, 'feature_fraction': 0.8363028028107656, 'bagging_fraction': 0.4453227866434962}. Best is trial 0 with value: 1.0.\n",
      "[I 2024-01-28 11:17:52,477] Trial 34 finished with value: 1.0 and parameters: {'lambda_l1': 6.906264585493761e-08, 'lambda_l2': 9.773907402596673e-05, 'num_leaves': 23, 'feature_fraction': 0.7218789494322223, 'bagging_fraction': 0.5799749311448084}. Best is trial 0 with value: 1.0.\n",
      "[I 2024-01-28 11:17:52,612] Trial 35 finished with value: 1.0 and parameters: {'lambda_l1': 3.534258948572561e-07, 'lambda_l2': 1.0849637430968146, 'num_leaves': 197, 'feature_fraction': 0.41917614472987463, 'bagging_fraction': 0.6329800183408386}. Best is trial 0 with value: 1.0.\n",
      "[I 2024-01-28 11:17:52,743] Trial 36 finished with value: 1.0 and parameters: {'lambda_l1': 1.6024267915721862e-05, 'lambda_l2': 0.0012279838873941683, 'num_leaves': 173, 'feature_fraction': 0.6959049490304506, 'bagging_fraction': 0.9024999572848186}. Best is trial 0 with value: 1.0.\n",
      "[I 2024-01-28 11:17:52,852] Trial 37 finished with value: 1.0 and parameters: {'lambda_l1': 9.420692319671299e-05, 'lambda_l2': 0.07114168367969038, 'num_leaves': 107, 'feature_fraction': 0.7708336406476586, 'bagging_fraction': 0.6803168847575561}. Best is trial 0 with value: 1.0.\n",
      "[I 2024-01-28 11:17:52,953] Trial 38 finished with value: 1.0 and parameters: {'lambda_l1': 1.0504639968131475e-08, 'lambda_l2': 0.8896722688041553, 'num_leaves': 65, 'feature_fraction': 0.8989703543899372, 'bagging_fraction': 0.5429458843838828}. Best is trial 0 with value: 1.0.\n",
      "[I 2024-01-28 11:17:53,053] Trial 39 finished with value: 1.0 and parameters: {'lambda_l1': 0.07077329587555385, 'lambda_l2': 3.139410862553696e-05, 'num_leaves': 238, 'feature_fraction': 0.8391826601345078, 'bagging_fraction': 0.4024548659712982}. Best is trial 0 with value: 1.0.\n",
      "[I 2024-01-28 11:17:53,165] Trial 40 finished with value: 1.0 and parameters: {'lambda_l1': 2.13211790074957e-06, 'lambda_l2': 0.017585613302235903, 'num_leaves': 142, 'feature_fraction': 0.8048470195405397, 'bagging_fraction': 0.5035574503515825}. Best is trial 0 with value: 1.0.\n",
      "[I 2024-01-28 11:17:53,266] Trial 41 finished with value: 1.0 and parameters: {'lambda_l1': 1.076406501422444e-05, 'lambda_l2': 8.677567207305106, 'num_leaves': 2, 'feature_fraction': 0.5295761614741992, 'bagging_fraction': 0.9309393354928078}. Best is trial 0 with value: 1.0.\n",
      "[I 2024-01-28 11:17:53,369] Trial 42 finished with value: 1.0 and parameters: {'lambda_l1': 3.832111158619711e-06, 'lambda_l2': 0.00020208297721232565, 'num_leaves': 218, 'feature_fraction': 0.9910709063927047, 'bagging_fraction': 0.9822561413782895}. Best is trial 0 with value: 1.0.\n",
      "[I 2024-01-28 11:17:53,501] Trial 43 finished with value: 1.0 and parameters: {'lambda_l1': 0.0009250779564555351, 'lambda_l2': 3.398746344605792e-06, 'num_leaves': 243, 'feature_fraction': 0.5391670502463739, 'bagging_fraction': 0.8597707334321755}. Best is trial 0 with value: 1.0.\n",
      "[I 2024-01-28 11:17:53,619] Trial 44 finished with value: 1.0 and parameters: {'lambda_l1': 2.9836706122084192e-05, 'lambda_l2': 5.41690345899691e-07, 'num_leaves': 180, 'feature_fraction': 0.6027369451131348, 'bagging_fraction': 0.7974291404593445}. Best is trial 0 with value: 1.0.\n",
      "[I 2024-01-28 11:17:53,731] Trial 45 finished with value: 1.0 and parameters: {'lambda_l1': 0.0031633744963138147, 'lambda_l2': 0.0013878365107423496, 'num_leaves': 208, 'feature_fraction': 0.7138182530221643, 'bagging_fraction': 0.9834114991080304}. Best is trial 0 with value: 1.0.\n",
      "[I 2024-01-28 11:17:53,858] Trial 46 finished with value: 1.0 and parameters: {'lambda_l1': 3.322082379989397e-08, 'lambda_l2': 7.495929857640708e-08, 'num_leaves': 85, 'feature_fraction': 0.49434374473674775, 'bagging_fraction': 0.9118090972105855}. Best is trial 0 with value: 1.0.\n",
      "[I 2024-01-28 11:17:53,992] Trial 47 finished with value: 1.0 and parameters: {'lambda_l1': 8.454266301142879e-05, 'lambda_l2': 3.412042523198899e-05, 'num_leaves': 256, 'feature_fraction': 0.6595149820704519, 'bagging_fraction': 0.7960733627238104}. Best is trial 0 with value: 1.0.\n",
      "[I 2024-01-28 11:17:54,113] Trial 48 finished with value: 1.0 and parameters: {'lambda_l1': 0.0005683724739395675, 'lambda_l2': 0.008411018405902132, 'num_leaves': 193, 'feature_fraction': 0.781666179803706, 'bagging_fraction': 0.8892521350025556}. Best is trial 0 with value: 1.0.\n",
      "[I 2024-01-28 11:17:54,228] Trial 49 finished with value: 1.0 and parameters: {'lambda_l1': 9.342766987574012e-07, 'lambda_l2': 1.8307613103712725e-06, 'num_leaves': 231, 'feature_fraction': 0.6113187170920042, 'bagging_fraction': 0.926486239308272}. Best is trial 0 with value: 1.0.\n",
      "[I 2024-01-28 11:17:54,356] Trial 50 finished with value: 1.0 and parameters: {'lambda_l1': 0.008438781882891024, 'lambda_l2': 8.59491663574171e-06, 'num_leaves': 164, 'feature_fraction': 0.4049564145199703, 'bagging_fraction': 0.9614681259933181}. Best is trial 0 with value: 1.0.\n",
      "[I 2024-01-28 11:17:54,461] Trial 51 finished with value: 1.0 and parameters: {'lambda_l1': 4.578018193267305, 'lambda_l2': 1.8164039294796048, 'num_leaves': 233, 'feature_fraction': 0.8538259716496759, 'bagging_fraction': 0.8625517639684365}. Best is trial 0 with value: 1.0.\n",
      "[I 2024-01-28 11:17:54,566] Trial 52 finished with value: 1.0 and parameters: {'lambda_l1': 1.867965044232736, 'lambda_l2': 6.5036726709927954, 'num_leaves': 245, 'feature_fraction': 0.7873796356586624, 'bagging_fraction': 0.7499727678407981}. Best is trial 0 with value: 1.0.\n",
      "[I 2024-01-28 11:17:54,672] Trial 53 finished with value: 1.0 and parameters: {'lambda_l1': 0.4582685508795113, 'lambda_l2': 1.8090671890098776e-08, 'num_leaves': 217, 'feature_fraction': 0.7305618762343363, 'bagging_fraction': 0.5934026565207009}. Best is trial 0 with value: 1.0.\n",
      "[I 2024-01-28 11:17:54,812] Trial 54 finished with value: 1.0 and parameters: {'lambda_l1': 3.910211804020535e-06, 'lambda_l2': 0.5155020996495775, 'num_leaves': 224, 'feature_fraction': 0.6892275667556426, 'bagging_fraction': 0.6886018017042925}. Best is trial 0 with value: 1.0.\n",
      "[I 2024-01-28 11:17:54,916] Trial 55 finished with value: 1.0 and parameters: {'lambda_l1': 0.0791181900893733, 'lambda_l2': 0.09403686626130289, 'num_leaves': 202, 'feature_fraction': 0.9079104993624079, 'bagging_fraction': 0.9963927570393528}. Best is trial 0 with value: 1.0.\n",
      "[I 2024-01-28 11:17:55,033] Trial 56 finished with value: 1.0 and parameters: {'lambda_l1': 8.667211770133961e-08, 'lambda_l2': 0.0006211956086671774, 'num_leaves': 134, 'feature_fraction': 0.8166749125238909, 'bagging_fraction': 0.5552319425601062}. Best is trial 0 with value: 1.0.\n",
      "[I 2024-01-28 11:17:55,144] Trial 57 finished with value: 1.0 and parameters: {'lambda_l1': 2.7940196045637864e-07, 'lambda_l2': 0.03730444520896781, 'num_leaves': 250, 'feature_fraction': 0.876765558598762, 'bagging_fraction': 0.6418040419598225}. Best is trial 0 with value: 1.0.\n",
      "[I 2024-01-28 11:17:55,245] Trial 58 finished with value: 1.0 and parameters: {'lambda_l1': 0.00434911035695871, 'lambda_l2': 0.15865025046892045, 'num_leaves': 187, 'feature_fraction': 0.9505131604476077, 'bagging_fraction': 0.8209183758833953}. Best is trial 0 with value: 1.0.\n",
      "[I 2024-01-28 11:17:55,365] Trial 59 finished with value: 1.0 and parameters: {'lambda_l1': 0.0013334390487887513, 'lambda_l2': 0.0035745615675234804, 'num_leaves': 155, 'feature_fraction': 0.6382052824794324, 'bagging_fraction': 0.9435523449810371}. Best is trial 0 with value: 1.0.\n",
      "[I 2024-01-28 11:17:55,476] Trial 60 finished with value: 1.0 and parameters: {'lambda_l1': 0.0004352978990725082, 'lambda_l2': 0.008475845020499041, 'num_leaves': 209, 'feature_fraction': 0.8554405869363517, 'bagging_fraction': 0.8535308809005453}. Best is trial 0 with value: 1.0.\n",
      "[I 2024-01-28 11:17:55,585] Trial 61 finished with value: 1.0 and parameters: {'lambda_l1': 1.5454871474577136e-07, 'lambda_l2': 2.1434353808922624, 'num_leaves': 5, 'feature_fraction': 0.9677199599414591, 'bagging_fraction': 0.49919550094837095}. Best is trial 0 with value: 1.0.\n",
      "[I 2024-01-28 11:17:55,692] Trial 62 finished with value: 1.0 and parameters: {'lambda_l1': 2.521751116938831e-08, 'lambda_l2': 1.058042885729612e-08, 'num_leaves': 15, 'feature_fraction': 0.9998969532698128, 'bagging_fraction': 0.4636333978431517}. Best is trial 0 with value: 1.0.\n",
      "[I 2024-01-28 11:17:55,794] Trial 63 finished with value: 1.0 and parameters: {'lambda_l1': 1.2254594336411892e-06, 'lambda_l2': 0.0018435076376649086, 'num_leaves': 28, 'feature_fraction': 0.9722549603709374, 'bagging_fraction': 0.5603669724727578}. Best is trial 0 with value: 1.0.\n",
      "[I 2024-01-28 11:17:55,902] Trial 64 finished with value: 1.0 and parameters: {'lambda_l1': 9.215409889223203, 'lambda_l2': 0.044308198325574935, 'num_leaves': 15, 'feature_fraction': 0.9195892295394663, 'bagging_fraction': 0.882201488066064}. Best is trial 0 with value: 1.0.\n",
      "[I 2024-01-28 11:17:56,007] Trial 65 finished with value: 1.0 and parameters: {'lambda_l1': 5.443951852214959e-07, 'lambda_l2': 0.014285981183217554, 'num_leaves': 174, 'feature_fraction': 0.9401360082396981, 'bagging_fraction': 0.7138605506561426}. Best is trial 0 with value: 1.0.\n",
      "[I 2024-01-28 11:17:56,114] Trial 66 finished with value: 1.0 and parameters: {'lambda_l1': 0.025691511953088237, 'lambda_l2': 0.000165673833373011, 'num_leaves': 38, 'feature_fraction': 0.7602614009629843, 'bagging_fraction': 0.6678608530774537}. Best is trial 0 with value: 1.0.\n",
      "[I 2024-01-28 11:17:56,218] Trial 67 finished with value: 1.0 and parameters: {'lambda_l1': 1.8758452040198173e-05, 'lambda_l2': 0.3850176795933302, 'num_leaves': 236, 'feature_fraction': 0.894804449895476, 'bagging_fraction': 0.6171997753179049}. Best is trial 0 with value: 1.0.\n",
      "[I 2024-01-28 11:17:56,342] Trial 68 finished with value: 1.0 and parameters: {'lambda_l1': 1.892301105882582e-08, 'lambda_l2': 6.412911009588176e-05, 'num_leaves': 222, 'feature_fraction': 0.8147689198264935, 'bagging_fraction': 0.5192892354396694}. Best is trial 0 with value: 1.0.\n",
      "[I 2024-01-28 11:17:56,462] Trial 69 finished with value: 1.0 and parameters: {'lambda_l1': 0.0002509278642483958, 'lambda_l2': 0.1594434778482447, 'num_leaves': 108, 'feature_fraction': 0.7313179885573566, 'bagging_fraction': 0.5830319195029404}. Best is trial 0 with value: 1.0.\n",
      "[I 2024-01-28 11:17:56,591] Trial 70 finished with value: 1.0 and parameters: {'lambda_l1': 9.786940859438452e-05, 'lambda_l2': 2.3778992726224163e-07, 'num_leaves': 52, 'feature_fraction': 0.4709931404360896, 'bagging_fraction': 0.9144158008013173}. Best is trial 0 with value: 1.0.\n",
      "[I 2024-01-28 11:17:56,711] Trial 71 finished with value: 1.0 and parameters: {'lambda_l1': 3.6901303968403675e-05, 'lambda_l2': 0.6147905178306002, 'num_leaves': 179, 'feature_fraction': 0.7087581474735709, 'bagging_fraction': 0.6502419220109059}. Best is trial 0 with value: 1.0.\n",
      "[I 2024-01-28 11:17:56,832] Trial 72 finished with value: 1.0 and parameters: {'lambda_l1': 2.435501831550969e-07, 'lambda_l2': 4.721084806671914, 'num_leaves': 248, 'feature_fraction': 0.6744510009793593, 'bagging_fraction': 0.6262491647819405}. Best is trial 0 with value: 1.0.\n",
      "[I 2024-01-28 11:17:56,970] Trial 73 finished with value: 1.0 and parameters: {'lambda_l1': 6.239310979352963e-06, 'lambda_l2': 2.9848742287269, 'num_leaves': 124, 'feature_fraction': 0.5774898873501224, 'bagging_fraction': 0.6048221639529984}. Best is trial 0 with value: 1.0.\n",
      "[I 2024-01-28 11:17:57,083] Trial 74 finished with value: 1.0 and parameters: {'lambda_l1': 0.00014167947909036522, 'lambda_l2': 0.9501287292081926, 'num_leaves': 145, 'feature_fraction': 0.7788995387705909, 'bagging_fraction': 0.5756056116364523}. Best is trial 0 with value: 1.0.\n",
      "[I 2024-01-28 11:17:57,203] Trial 75 finished with value: 1.0 and parameters: {'lambda_l1': 0.0020953206835052024, 'lambda_l2': 0.0003362105527090354, 'num_leaves': 157, 'feature_fraction': 0.7989878125794255, 'bagging_fraction': 0.970356530695412}. Best is trial 0 with value: 1.0.\n",
      "[I 2024-01-28 11:17:57,325] Trial 76 finished with value: 1.0 and parameters: {'lambda_l1': 7.632386104070875e-08, 'lambda_l2': 0.021961674273618528, 'num_leaves': 195, 'feature_fraction': 0.7477367228874906, 'bagging_fraction': 0.5557398612532818}. Best is trial 0 with value: 1.0.\n",
      "[I 2024-01-28 11:17:57,433] Trial 77 finished with value: 1.0 and parameters: {'lambda_l1': 2.0011404071158516e-06, 'lambda_l2': 0.004619252551063361, 'num_leaves': 210, 'feature_fraction': 0.9770559437581361, 'bagging_fraction': 0.5960450979254794}. Best is trial 0 with value: 1.0.\n",
      "[I 2024-01-28 11:17:57,545] Trial 78 finished with value: 1.0 and parameters: {'lambda_l1': 6.768834942633974e-05, 'lambda_l2': 1.5973395136061133e-05, 'num_leaves': 45, 'feature_fraction': 0.94896440160845, 'bagging_fraction': 0.7503789086305869}. Best is trial 0 with value: 1.0.\n",
      "[I 2024-01-28 11:17:57,669] Trial 79 finished with value: 1.0 and parameters: {'lambda_l1': 0.009520614458142004, 'lambda_l2': 0.11253238683513357, 'num_leaves': 166, 'feature_fraction': 0.842925435294009, 'bagging_fraction': 0.9464802680244505}. Best is trial 0 with value: 1.0.\n",
      "[I 2024-01-28 11:17:57,795] Trial 80 finished with value: 1.0 and parameters: {'lambda_l1': 0.0007691706813002156, 'lambda_l2': 0.0006498070296380274, 'num_leaves': 229, 'feature_fraction': 0.8635465180382315, 'bagging_fraction': 0.893804787667961}. Best is trial 0 with value: 1.0.\n",
      "[I 2024-01-28 11:17:57,920] Trial 81 finished with value: 1.0 and parameters: {'lambda_l1': 1.22242306676193e-08, 'lambda_l2': 1.5127702427928975, 'num_leaves': 96, 'feature_fraction': 0.4363566673842249, 'bagging_fraction': 0.6734606891518671}. Best is trial 0 with value: 1.0.\n",
      "[I 2024-01-28 11:17:58,055] Trial 82 finished with value: 1.0 and parameters: {'lambda_l1': 2.9278212190701706e-08, 'lambda_l2': 3.3076395341196236, 'num_leaves': 137, 'feature_fraction': 0.5034047529610481, 'bagging_fraction': 0.7178497446030678}. Best is trial 0 with value: 1.0.\n",
      "[I 2024-01-28 11:17:58,189] Trial 83 finished with value: 1.0 and parameters: {'lambda_l1': 5.230259441868619e-08, 'lambda_l2': 8.966791865024472, 'num_leaves': 240, 'feature_fraction': 0.45853548537467204, 'bagging_fraction': 0.6903148927642839}. Best is trial 0 with value: 1.0.\n",
      "[I 2024-01-28 11:17:58,314] Trial 84 finished with value: 1.0 and parameters: {'lambda_l1': 1.4491799686179312e-07, 'lambda_l2': 0.30649401845379076, 'num_leaves': 181, 'feature_fraction': 0.5425579387513523, 'bagging_fraction': 0.7058564054380619}. Best is trial 0 with value: 1.0.\n",
      "[I 2024-01-28 11:17:58,426] Trial 85 finished with value: 1.0 and parameters: {'lambda_l1': 1.652259160054308e-08, 'lambda_l2': 0.049644693178562654, 'num_leaves': 72, 'feature_fraction': 0.9285958307041832, 'bagging_fraction': 0.6475985739815228}. Best is trial 0 with value: 1.0.\n",
      "[I 2024-01-28 11:17:58,548] Trial 86 finished with value: 1.0 and parameters: {'lambda_l1': 0.17887474490706928, 'lambda_l2': 0.0018466500265604928, 'num_leaves': 170, 'feature_fraction': 0.5811395166835095, 'bagging_fraction': 0.7750648507734922}. Best is trial 0 with value: 1.0.\n",
      "[I 2024-01-28 11:17:58,721] Trial 87 finished with value: 1.0 and parameters: {'lambda_l1': 5.422672174335319e-07, 'lambda_l2': 4.621310601574828, 'num_leaves': 256, 'feature_fraction': 0.6390890024114879, 'bagging_fraction': 0.528110081226371}. Best is trial 0 with value: 1.0.\n",
      "[I 2024-01-28 11:17:58,833] Trial 88 finished with value: 1.0 and parameters: {'lambda_l1': 0.0003153917325115164, 'lambda_l2': 0.623693158779569, 'num_leaves': 12, 'feature_fraction': 0.7656640851685232, 'bagging_fraction': 0.7456249165193342}. Best is trial 0 with value: 1.0.\n",
      "[I 2024-01-28 11:17:58,941] Trial 89 finished with value: 1.0 and parameters: {'lambda_l1': 1.7299156211836226e-05, 'lambda_l2': 4.670206809830489e-06, 'num_leaves': 201, 'feature_fraction': 0.8848389146521096, 'bagging_fraction': 0.9299571155755422}. Best is trial 0 with value: 1.0.\n",
      "[I 2024-01-28 11:17:59,075] Trial 90 finished with value: 1.0 and parameters: {'lambda_l1': 3.905146631899704e-08, 'lambda_l2': 1.0601108911552228e-06, 'num_leaves': 149, 'feature_fraction': 0.7350942712285142, 'bagging_fraction': 0.6297284600466216}. Best is trial 0 with value: 1.0.\n",
      "[I 2024-01-28 11:17:59,191] Trial 91 finished with value: 1.0 and parameters: {'lambda_l1': 0.03386878733666424, 'lambda_l2': 6.028511384332358e-08, 'num_leaves': 83, 'feature_fraction': 0.9161064683592957, 'bagging_fraction': 0.9663156466466172}. Best is trial 0 with value: 1.0.\n",
      "[I 2024-01-28 11:17:59,298] Trial 92 finished with value: 1.0 and parameters: {'lambda_l1': 1.1054904196813096, 'lambda_l2': 0.0009517533681790786, 'num_leaves': 24, 'feature_fraction': 0.8241773114529503, 'bagging_fraction': 0.8773013680389429}. Best is trial 0 with value: 1.0.\n",
      "[I 2024-01-28 11:17:59,450] Trial 93 finished with value: 1.0 and parameters: {'lambda_l1': 0.05080975563482197, 'lambda_l2': 2.7781580146650644e-08, 'num_leaves': 128, 'feature_fraction': 0.7941451995081712, 'bagging_fraction': 0.8060519066901792}. Best is trial 0 with value: 1.0.\n",
      "[I 2024-01-28 11:17:59,555] Trial 94 finished with value: 1.0 and parameters: {'lambda_l1': 0.014093198790588393, 'lambda_l2': 1.9921881929487952e-07, 'num_leaves': 5, 'feature_fraction': 0.8722848126716627, 'bagging_fraction': 0.9115692862309213}. Best is trial 0 with value: 1.0.\n",
      "[I 2024-01-28 11:17:59,661] Trial 95 finished with value: 1.0 and parameters: {'lambda_l1': 0.3550074376438439, 'lambda_l2': 4.0171991963134416e-07, 'num_leaves': 161, 'feature_fraction': 0.8983266853184777, 'bagging_fraction': 0.9780047585148217}. Best is trial 0 with value: 1.0.\n",
      "[I 2024-01-28 11:17:59,780] Trial 96 finished with value: 1.0 and parameters: {'lambda_l1': 0.12526223972387324, 'lambda_l2': 0.005384907959568992, 'num_leaves': 112, 'feature_fraction': 0.5080528814667917, 'bagging_fraction': 0.5657201548800312}. Best is trial 0 with value: 1.0.\n",
      "[I 2024-01-28 11:17:59,909] Trial 97 finished with value: 1.0 and parameters: {'lambda_l1': 0.004910639355656663, 'lambda_l2': 1.3074948141707303, 'num_leaves': 185, 'feature_fraction': 0.6250373167226957, 'bagging_fraction': 0.5436125086377077}. Best is trial 0 with value: 1.0.\n",
      "[I 2024-01-28 11:18:00,047] Trial 98 finished with value: 1.0 and parameters: {'lambda_l1': 3.3290907900501967e-06, 'lambda_l2': 0.01240697576778489, 'num_leaves': 117, 'feature_fraction': 0.6830584878344614, 'bagging_fraction': 0.9533488192005461}. Best is trial 0 with value: 1.0.\n",
      "[I 2024-01-28 11:18:00,172] Trial 99 finished with value: 1.0 and parameters: {'lambda_l1': 5.2776198470740864e-05, 'lambda_l2': 0.0024851828949900476, 'num_leaves': 248, 'feature_fraction': 0.8503993943498813, 'bagging_fraction': 0.9249713286789804}. Best is trial 0 with value: 1.0.\n"
     ]
    }
   ],
   "source": [
    "autoeval.exec()"
   ]
  },
  {
   "cell_type": "code",
   "execution_count": null,
   "metadata": {},
   "outputs": [],
   "source": []
  }
 ],
 "metadata": {
  "kernelspec": {
   "display_name": ".venv",
   "language": "python",
   "name": "python3"
  },
  "language_info": {
   "codemirror_mode": {
    "name": "ipython",
    "version": 3
   },
   "file_extension": ".py",
   "mimetype": "text/x-python",
   "name": "python",
   "nbconvert_exporter": "python",
   "pygments_lexer": "ipython3",
   "version": "3.9.18"
  }
 },
 "nbformat": 4,
 "nbformat_minor": 2
}
