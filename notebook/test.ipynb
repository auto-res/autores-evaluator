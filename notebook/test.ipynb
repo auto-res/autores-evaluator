{
 "cells": [
  {
   "cell_type": "code",
   "execution_count": 1,
   "metadata": {},
   "outputs": [
    {
     "name": "stderr",
     "output_type": "stream",
     "text": [
      "/Users/tanakatouma/vscode/auto-evaluate/.venv/lib/python3.9/site-packages/tqdm/auto.py:21: TqdmWarning: IProgress not found. Please update jupyter and ipywidgets. See https://ipywidgets.readthedocs.io/en/stable/user_install.html\n",
      "  from .autonotebook import tqdm as notebook_tqdm\n"
     ]
    }
   ],
   "source": [
    "import sys\n",
    "sys.path.append('..')\n",
    "\n",
    "from src.autoevaluate.main import AutoEvaluate"
   ]
  },
  {
   "cell_type": "code",
   "execution_count": 2,
   "metadata": {},
   "outputs": [],
   "source": [
    "params = {\n",
    "    'lambda_l1': {'type': 'log_float', 'args': [1e-8, 10.0]},\n",
    "    'lambda_l2': {'type': 'log_float', 'args': [1e-8, 10.0]},\n",
    "    'num_leaves': {'type': 'int', 'args': [2, 256]},\n",
    "    'feature_fraction': {'type': 'float', 'args': [0.4, 1.0]},\n",
    "    'bagging_fraction': {'type': 'float', 'args': [0.4, 1.0]},\n",
    "    'verbosity': -1\n",
    "}"
   ]
  },
  {
   "cell_type": "code",
   "execution_count": 3,
   "metadata": {},
   "outputs": [],
   "source": [
    "autoeval = AutoEvaluate(\n",
    "    task_type='tabledata binary classification',\n",
    "    dataset_name='titanic',\n",
    "    model_path='/Users/tanakatouma/vscode/auto-evaluate/test/lightgbm_model.py',\n",
    "    params=params,\n",
    "    valuation_index='pr_auc'\n",
    "    )"
   ]
  },
  {
   "cell_type": "code",
   "execution_count": 4,
   "metadata": {},
   "outputs": [
    {
     "name": "stderr",
     "output_type": "stream",
     "text": [
      "[I 2024-01-28 11:19:37,345] A new study created in memory with name: no-name-faf32c7f-6afc-4336-8865-08ea2aaad48d\n",
      "[I 2024-01-28 11:19:37,490] Trial 0 finished with value: 1.0 and parameters: {'lambda_l1': 3.3838944228708644e-06, 'lambda_l2': 2.9192740015289438e-05, 'num_leaves': 121, 'feature_fraction': 0.4387407137551133, 'bagging_fraction': 0.7360203851470657}. Best is trial 0 with value: 1.0.\n",
      "[I 2024-01-28 11:19:37,567] Trial 1 finished with value: 1.0 and parameters: {'lambda_l1': 6.666624864266546, 'lambda_l2': 6.017695198752652e-07, 'num_leaves': 2, 'feature_fraction': 0.5945683240292794, 'bagging_fraction': 0.6282653333754081}. Best is trial 0 with value: 1.0.\n",
      "[I 2024-01-28 11:19:37,647] Trial 2 finished with value: 1.0 and parameters: {'lambda_l1': 0.3260601629915561, 'lambda_l2': 1.222251571581224e-07, 'num_leaves': 2, 'feature_fraction': 0.8349012953049828, 'bagging_fraction': 0.7687897564841941}. Best is trial 0 with value: 1.0.\n",
      "[I 2024-01-28 11:19:37,781] Trial 3 finished with value: 1.0 and parameters: {'lambda_l1': 5.573894354899334e-06, 'lambda_l2': 8.632875245337428e-05, 'num_leaves': 231, 'feature_fraction': 0.48222062282413924, 'bagging_fraction': 0.5861664245802958}. Best is trial 0 with value: 1.0.\n",
      "[I 2024-01-28 11:19:37,893] Trial 4 finished with value: 1.0 and parameters: {'lambda_l1': 0.005373937072030039, 'lambda_l2': 0.061411472876498285, 'num_leaves': 10, 'feature_fraction': 0.6404831637446733, 'bagging_fraction': 0.7928596179822671}. Best is trial 0 with value: 1.0.\n",
      "[I 2024-01-28 11:19:38,032] Trial 5 finished with value: 1.0 and parameters: {'lambda_l1': 1.380450609406617e-07, 'lambda_l2': 5.412946337348251e-06, 'num_leaves': 127, 'feature_fraction': 0.41674941088550393, 'bagging_fraction': 0.5634667520781318}. Best is trial 0 with value: 1.0.\n",
      "[I 2024-01-28 11:19:38,164] Trial 6 finished with value: 1.0 and parameters: {'lambda_l1': 1.6457951906822513e-05, 'lambda_l2': 0.013219177758431998, 'num_leaves': 167, 'feature_fraction': 0.634288085726767, 'bagging_fraction': 0.4752588628431538}. Best is trial 0 with value: 1.0.\n",
      "[I 2024-01-28 11:19:38,275] Trial 7 finished with value: 1.0 and parameters: {'lambda_l1': 0.05785610290262385, 'lambda_l2': 0.9789652151276734, 'num_leaves': 75, 'feature_fraction': 0.5247992928589136, 'bagging_fraction': 0.7707959670301923}. Best is trial 0 with value: 1.0.\n",
      "[I 2024-01-28 11:19:38,391] Trial 8 finished with value: 1.0 and parameters: {'lambda_l1': 0.00017739560773967145, 'lambda_l2': 8.046725688115602e-07, 'num_leaves': 227, 'feature_fraction': 0.411215854486517, 'bagging_fraction': 0.5425591173319739}. Best is trial 0 with value: 1.0.\n",
      "[I 2024-01-28 11:19:38,485] Trial 9 finished with value: 1.0 and parameters: {'lambda_l1': 0.0002614363765480568, 'lambda_l2': 0.015839836932945894, 'num_leaves': 92, 'feature_fraction': 0.924154953173717, 'bagging_fraction': 0.5596818620292924}. Best is trial 0 with value: 1.0.\n",
      "[I 2024-01-28 11:19:38,607] Trial 10 finished with value: 1.0 and parameters: {'lambda_l1': 1.0489758440875301e-08, 'lambda_l2': 1.129028009471262e-08, 'num_leaves': 179, 'feature_fraction': 0.7703816577215192, 'bagging_fraction': 0.9844854148832889}. Best is trial 0 with value: 1.0.\n",
      "[I 2024-01-28 11:19:38,710] Trial 11 finished with value: 1.0 and parameters: {'lambda_l1': 5.101468547299194, 'lambda_l2': 2.9204575443442615e-05, 'num_leaves': 43, 'feature_fraction': 0.5582986548529697, 'bagging_fraction': 0.6730375485764235}. Best is trial 0 with value: 1.0.\n",
      "[I 2024-01-28 11:19:38,853] Trial 12 finished with value: 1.0 and parameters: {'lambda_l1': 1.834756771884326e-06, 'lambda_l2': 0.0009161876834124651, 'num_leaves': 116, 'feature_fraction': 0.6022437837460661, 'bagging_fraction': 0.9028759488515725}. Best is trial 0 with value: 1.0.\n",
      "[I 2024-01-28 11:19:38,970] Trial 13 finished with value: 1.0 and parameters: {'lambda_l1': 0.004689073911260411, 'lambda_l2': 7.833886951151814e-07, 'num_leaves': 53, 'feature_fraction': 0.7292623852558091, 'bagging_fraction': 0.6817910247526193}. Best is trial 0 with value: 1.0.\n",
      "[I 2024-01-28 11:19:39,069] Trial 14 finished with value: 1.0 and parameters: {'lambda_l1': 6.211935056588941, 'lambda_l2': 0.0007608488424267285, 'num_leaves': 166, 'feature_fraction': 0.48601234488914774, 'bagging_fraction': 0.6688072979234659}. Best is trial 0 with value: 1.0.\n",
      "[I 2024-01-28 11:19:39,197] Trial 15 finished with value: 1.0 and parameters: {'lambda_l1': 1.5106241237133617e-07, 'lambda_l2': 7.18948566695888e-06, 'num_leaves': 38, 'feature_fraction': 0.6767620811734103, 'bagging_fraction': 0.41200871383455956}. Best is trial 0 with value: 1.0.\n",
      "[I 2024-01-28 11:19:39,299] Trial 16 finished with value: 1.0 and parameters: {'lambda_l1': 2.8889551869272148e-05, 'lambda_l2': 2.5836948745770488e-08, 'num_leaves': 200, 'feature_fraction': 0.9929548031613193, 'bagging_fraction': 0.8469146578122497}. Best is trial 0 with value: 1.0.\n",
      "[I 2024-01-28 11:19:39,428] Trial 17 finished with value: 1.0 and parameters: {'lambda_l1': 0.0049550993982846155, 'lambda_l2': 6.288556606567501e-07, 'num_leaves': 101, 'feature_fraction': 0.5743623571351871, 'bagging_fraction': 0.6098519910383392}. Best is trial 0 with value: 1.0.\n",
      "[I 2024-01-28 11:19:39,554] Trial 18 finished with value: 1.0 and parameters: {'lambda_l1': 0.2501865099259869, 'lambda_l2': 8.574402802911369, 'num_leaves': 251, 'feature_fraction': 0.4622718312619327, 'bagging_fraction': 0.7363581779079518}. Best is trial 0 with value: 1.0.\n",
      "[I 2024-01-28 11:19:39,667] Trial 19 finished with value: 1.0 and parameters: {'lambda_l1': 9.491294986293172e-07, 'lambda_l2': 0.000109944926997908, 'num_leaves': 150, 'feature_fraction': 0.8102638262795158, 'bagging_fraction': 0.8484207230919555}. Best is trial 0 with value: 1.0.\n",
      "[I 2024-01-28 11:19:39,786] Trial 20 finished with value: 1.0 and parameters: {'lambda_l1': 6.0638036445250156e-05, 'lambda_l2': 7.495057280887425e-06, 'num_leaves': 72, 'feature_fraction': 0.5452856721480801, 'bagging_fraction': 0.6223501388509725}. Best is trial 0 with value: 1.0.\n",
      "[I 2024-01-28 11:19:39,880] Trial 21 finished with value: 1.0 and parameters: {'lambda_l1': 0.5205169086548653, 'lambda_l2': 8.756986411333407e-08, 'num_leaves': 3, 'feature_fraction': 0.8551449892821282, 'bagging_fraction': 0.732399783660068}. Best is trial 0 with value: 1.0.\n",
      "[I 2024-01-28 11:19:39,983] Trial 22 finished with value: 1.0 and parameters: {'lambda_l1': 0.7809392047537781, 'lambda_l2': 1.370348409892909e-07, 'num_leaves': 20, 'feature_fraction': 0.8633022337392894, 'bagging_fraction': 0.8154930715589201}. Best is trial 0 with value: 1.0.\n",
      "[I 2024-01-28 11:19:40,089] Trial 23 finished with value: 1.0 and parameters: {'lambda_l1': 0.03964093691678094, 'lambda_l2': 1.8683143576320409e-07, 'num_leaves': 32, 'feature_fraction': 0.7197927564928915, 'bagging_fraction': 0.7264008892632743}. Best is trial 0 with value: 1.0.\n",
      "[I 2024-01-28 11:19:40,192] Trial 24 finished with value: 1.0 and parameters: {'lambda_l1': 9.310518756480521, 'lambda_l2': 2.4012127193666035e-06, 'num_leaves': 63, 'feature_fraction': 0.7786579605783999, 'bagging_fraction': 0.8914110519918149}. Best is trial 0 with value: 1.0.\n",
      "[I 2024-01-28 11:19:40,300] Trial 25 finished with value: 1.0 and parameters: {'lambda_l1': 0.0010098873010369995, 'lambda_l2': 1.981411001282164e-05, 'num_leaves': 3, 'feature_fraction': 0.6895189533873047, 'bagging_fraction': 0.5047731954047588}. Best is trial 0 with value: 1.0.\n",
      "[I 2024-01-28 11:19:40,405] Trial 26 finished with value: 1.0 and parameters: {'lambda_l1': 1.0525097397461474, 'lambda_l2': 4.0671260140718944e-08, 'num_leaves': 89, 'feature_fraction': 0.9538186936375996, 'bagging_fraction': 0.6472320502297129}. Best is trial 0 with value: 1.0.\n",
      "[I 2024-01-28 11:19:40,503] Trial 27 finished with value: 1.0 and parameters: {'lambda_l1': 0.028649900360404768, 'lambda_l2': 3.759404372627192e-07, 'num_leaves': 31, 'feature_fraction': 0.8755504687896691, 'bagging_fraction': 0.7085788260199604}. Best is trial 0 with value: 1.0.\n",
      "[I 2024-01-28 11:19:40,609] Trial 28 finished with value: 1.0 and parameters: {'lambda_l1': 1.642178363188522, 'lambda_l2': 1.5723628508891232e-06, 'num_leaves': 146, 'feature_fraction': 0.4444997167095338, 'bagging_fraction': 0.7625486149423534}. Best is trial 0 with value: 1.0.\n",
      "[I 2024-01-28 11:19:40,730] Trial 29 finished with value: 1.0 and parameters: {'lambda_l1': 0.18967294906295296, 'lambda_l2': 0.0001730779449879159, 'num_leaves': 195, 'feature_fraction': 0.5259080688241448, 'bagging_fraction': 0.963268413709802}. Best is trial 0 with value: 1.0.\n",
      "[I 2024-01-28 11:19:40,867] Trial 30 finished with value: 1.0 and parameters: {'lambda_l1': 4.260142753688529e-06, 'lambda_l2': 3.816598319169516e-05, 'num_leaves': 20, 'feature_fraction': 0.5003179932685325, 'bagging_fraction': 0.6220332043176321}. Best is trial 0 with value: 1.0.\n",
      "[I 2024-01-28 11:19:40,995] Trial 31 finished with value: 1.0 and parameters: {'lambda_l1': 6.195641647747845e-06, 'lambda_l2': 0.002283891526649526, 'num_leaves': 225, 'feature_fraction': 0.6100537739818671, 'bagging_fraction': 0.5871661371120619}. Best is trial 0 with value: 1.0.\n",
      "[I 2024-01-28 11:19:41,130] Trial 32 finished with value: 1.0 and parameters: {'lambda_l1': 3.355906503194707e-07, 'lambda_l2': 4.668753277181433e-06, 'num_leaves': 115, 'feature_fraction': 0.43585618890792227, 'bagging_fraction': 0.7978661376053057}. Best is trial 0 with value: 1.0.\n",
      "[I 2024-01-28 11:19:41,251] Trial 33 finished with value: 1.0 and parameters: {'lambda_l1': 7.923832246065017e-05, 'lambda_l2': 8.522359338138852e-05, 'num_leaves': 140, 'feature_fraction': 0.4766590716264794, 'bagging_fraction': 0.5091975071061804}. Best is trial 0 with value: 1.0.\n",
      "[I 2024-01-28 11:19:41,374] Trial 34 finished with value: 1.0 and parameters: {'lambda_l1': 2.187697745010658e-08, 'lambda_l2': 0.0004949364873771728, 'num_leaves': 16, 'feature_fraction': 0.6392284985897684, 'bagging_fraction': 0.6475205649391164}. Best is trial 0 with value: 1.0.\n",
      "[I 2024-01-28 11:19:41,509] Trial 35 finished with value: 1.0 and parameters: {'lambda_l1': 0.0009275935742550864, 'lambda_l2': 0.11891318346126636, 'num_leaves': 253, 'feature_fraction': 0.4009748272867049, 'bagging_fraction': 0.5936455627445508}. Best is trial 0 with value: 1.0.\n",
      "[I 2024-01-28 11:19:41,640] Trial 36 finished with value: 1.0 and parameters: {'lambda_l1': 1.1882587734935685e-05, 'lambda_l2': 0.0023187543137837305, 'num_leaves': 225, 'feature_fraction': 0.584597329496986, 'bagging_fraction': 0.7674969728208867}. Best is trial 0 with value: 1.0.\n",
      "[I 2024-01-28 11:19:41,769] Trial 37 finished with value: 1.0 and parameters: {'lambda_l1': 1.049870499535319e-06, 'lambda_l2': 1.0938530057099003e-05, 'num_leaves': 208, 'feature_fraction': 0.5174207222975808, 'bagging_fraction': 0.44210686789425324}. Best is trial 0 with value: 1.0.\n",
      "[I 2024-01-28 11:19:41,867] Trial 38 finished with value: 1.0 and parameters: {'lambda_l1': 2.664295382744302, 'lambda_l2': 1.8729500568847134e-06, 'num_leaves': 56, 'feature_fraction': 0.42564258572489994, 'bagging_fraction': 0.5492306416529172}. Best is trial 0 with value: 1.0.\n",
      "[I 2024-01-28 11:19:41,994] Trial 39 finished with value: 1.0 and parameters: {'lambda_l1': 0.013847551457465952, 'lambda_l2': 1.492276489157557e-08, 'num_leaves': 171, 'feature_fraction': 0.6745227586790772, 'bagging_fraction': 0.7034865325356182}. Best is trial 0 with value: 1.0.\n",
      "[I 2024-01-28 11:19:42,122] Trial 40 finished with value: 1.0 and parameters: {'lambda_l1': 0.00045625894622070847, 'lambda_l2': 6.165920712723211e-08, 'num_leaves': 84, 'feature_fraction': 0.5405207427926477, 'bagging_fraction': 0.5772507289163121}. Best is trial 0 with value: 1.0.\n",
      "[I 2024-01-28 11:19:42,266] Trial 41 finished with value: 1.0 and parameters: {'lambda_l1': 0.21232314973374716, 'lambda_l2': 0.024770808551625705, 'num_leaves': 8, 'feature_fraction': 0.6379988734299071, 'bagging_fraction': 0.7979412901252306}. Best is trial 0 with value: 1.0.\n",
      "[I 2024-01-28 11:19:42,409] Trial 42 finished with value: 1.0 and parameters: {'lambda_l1': 0.08989756625454258, 'lambda_l2': 0.10075204237872952, 'num_leaves': 51, 'feature_fraction': 0.7450792070779018, 'bagging_fraction': 0.8605044726683722}. Best is trial 0 with value: 1.0.\n",
      "[I 2024-01-28 11:19:42,542] Trial 43 finished with value: 1.0 and parameters: {'lambda_l1': 0.0047775988763399824, 'lambda_l2': 0.007613108292693768, 'num_leaves': 23, 'feature_fraction': 0.6576897226019734, 'bagging_fraction': 0.7528924297527191}. Best is trial 0 with value: 1.0.\n",
      "[I 2024-01-28 11:19:42,664] Trial 44 finished with value: 1.0 and parameters: {'lambda_l1': 0.013147937993336955, 'lambda_l2': 1.8968660166957572, 'num_leaves': 40, 'feature_fraction': 0.6028033149028662, 'bagging_fraction': 0.6825060047257949}. Best is trial 0 with value: 1.0.\n",
      "[I 2024-01-28 11:19:42,806] Trial 45 finished with value: 1.0 and parameters: {'lambda_l1': 5.747279074419326e-08, 'lambda_l2': 2.8131795720717566e-07, 'num_leaves': 12, 'feature_fraction': 0.49780473093474, 'bagging_fraction': 0.8079792500637727}. Best is trial 0 with value: 1.0.\n",
      "[I 2024-01-28 11:19:42,915] Trial 46 finished with value: 1.0 and parameters: {'lambda_l1': 2.574870611682536, 'lambda_l2': 0.000288821744164823, 'num_leaves': 106, 'feature_fraction': 0.4543805160834298, 'bagging_fraction': 0.5186987182183119}. Best is trial 0 with value: 1.0.\n",
      "[I 2024-01-28 11:19:43,038] Trial 47 finished with value: 1.0 and parameters: {'lambda_l1': 3.0159424729355736e-07, 'lambda_l2': 5.947056689093901e-05, 'num_leaves': 128, 'feature_fraction': 0.5712199539199992, 'bagging_fraction': 0.6502187179299452}. Best is trial 0 with value: 1.0.\n",
      "[I 2024-01-28 11:19:43,142] Trial 48 finished with value: 1.0 and parameters: {'lambda_l1': 2.3573020696079724e-05, 'lambda_l2': 1.6777324419729157e-05, 'num_leaves': 161, 'feature_fraction': 0.9005460943288082, 'bagging_fraction': 0.8987187723576042}. Best is trial 0 with value: 1.0.\n",
      "[I 2024-01-28 11:19:43,259] Trial 49 finished with value: 1.0 and parameters: {'lambda_l1': 9.062432799316127e-05, 'lambda_l2': 0.0016608745707427518, 'num_leaves': 28, 'feature_fraction': 0.7516453140493282, 'bagging_fraction': 0.7856567887901312}. Best is trial 0 with value: 1.0.\n",
      "[I 2024-01-28 11:19:43,372] Trial 50 finished with value: 1.0 and parameters: {'lambda_l1': 2.7244744082710855e-06, 'lambda_l2': 0.00711370021706413, 'num_leaves': 239, 'feature_fraction': 0.8142785585792074, 'bagging_fraction': 0.8284726292348661}. Best is trial 0 with value: 1.0.\n",
      "[I 2024-01-28 11:19:43,509] Trial 51 finished with value: 1.0 and parameters: {'lambda_l1': 7.054901575046815e-08, 'lambda_l2': 8.390666588472848e-07, 'num_leaves': 130, 'feature_fraction': 0.4718624955779277, 'bagging_fraction': 0.47663752138833815}. Best is trial 0 with value: 1.0.\n",
      "[I 2024-01-28 11:19:43,640] Trial 52 finished with value: 1.0 and parameters: {'lambda_l1': 4.5288413778298496e-07, 'lambda_l2': 4.033572063392615e-06, 'num_leaves': 71, 'feature_fraction': 0.4202257604099046, 'bagging_fraction': 0.5655742663801394}. Best is trial 0 with value: 1.0.\n",
      "[I 2024-01-28 11:19:43,771] Trial 53 finished with value: 1.0 and parameters: {'lambda_l1': 1.0619534304574867e-08, 'lambda_l2': 9.295336059879754e-07, 'num_leaves': 185, 'feature_fraction': 0.4096358194353451, 'bagging_fraction': 0.5342196812832484}. Best is trial 0 with value: 1.0.\n",
      "[I 2024-01-28 11:19:43,881] Trial 54 finished with value: 1.0 and parameters: {'lambda_l1': 0.4304657046641706, 'lambda_l2': 3.727801547644092e-05, 'num_leaves': 118, 'feature_fraction': 0.6992392194910194, 'bagging_fraction': 0.6797745843018618}. Best is trial 0 with value: 1.0.\n",
      "[I 2024-01-28 11:19:44,012] Trial 55 finished with value: 1.0 and parameters: {'lambda_l1': 9.101046625797915e-06, 'lambda_l2': 0.00015728052366152534, 'num_leaves': 95, 'feature_fraction': 0.5536445149543348, 'bagging_fraction': 0.6087069208044419}. Best is trial 0 with value: 1.0.\n",
      "[I 2024-01-28 11:19:44,138] Trial 56 finished with value: 1.0 and parameters: {'lambda_l1': 0.002301753639116988, 'lambda_l2': 4.6073352549231725e-07, 'num_leaves': 44, 'feature_fraction': 0.5126313965945068, 'bagging_fraction': 0.7369652897067572}. Best is trial 0 with value: 1.0.\n",
      "[I 2024-01-28 11:19:44,275] Trial 57 finished with value: 1.0 and parameters: {'lambda_l1': 1.264188612131167e-06, 'lambda_l2': 1.2196149905037567e-07, 'num_leaves': 6, 'feature_fraction': 0.4613412795289869, 'bagging_fraction': 0.7071768555132029}. Best is trial 0 with value: 1.0.\n",
      "[I 2024-01-28 11:19:44,417] Trial 58 finished with value: 1.0 and parameters: {'lambda_l1': 0.0002312142937817498, 'lambda_l2': 3.85750122393112e-06, 'num_leaves': 213, 'feature_fraction': 0.4845591171141518, 'bagging_fraction': 0.8711225076477535}. Best is trial 0 with value: 1.0.\n",
      "[I 2024-01-28 11:19:44,524] Trial 59 finished with value: 1.0 and parameters: {'lambda_l1': 4.735104390804106, 'lambda_l2': 9.149389815693908e-06, 'num_leaves': 78, 'feature_fraction': 0.6161493741797605, 'bagging_fraction': 0.6338886884210542}. Best is trial 0 with value: 1.0.\n",
      "[I 2024-01-28 11:19:44,633] Trial 60 finished with value: 1.0 and parameters: {'lambda_l1': 3.822201864834667e-05, 'lambda_l2': 3.168471004642791e-08, 'num_leaves': 150, 'feature_fraction': 0.9964741509131221, 'bagging_fraction': 0.48536564496785195}. Best is trial 0 with value: 1.0.\n",
      "[I 2024-01-28 11:19:44,752] Trial 61 finished with value: 1.0 and parameters: {'lambda_l1': 2.0293181799694e-05, 'lambda_l2': 0.24004379386982103, 'num_leaves': 132, 'feature_fraction': 0.6373368276628071, 'bagging_fraction': 0.44108739474319586}. Best is trial 0 with value: 1.0.\n",
      "[I 2024-01-28 11:19:44,879] Trial 62 finished with value: 1.0 and parameters: {'lambda_l1': 3.9210789854594645e-06, 'lambda_l2': 0.04510157038068757, 'num_leaves': 163, 'feature_fraction': 0.6645039941426082, 'bagging_fraction': 0.412415798639167}. Best is trial 0 with value: 1.0.\n",
      "[I 2024-01-28 11:19:44,990] Trial 63 finished with value: 1.0 and parameters: {'lambda_l1': 0.10948379920325278, 'lambda_l2': 0.2167356612404987, 'num_leaves': 193, 'feature_fraction': 0.7162990695409042, 'bagging_fraction': 0.8305267725048641}. Best is trial 0 with value: 1.0.\n",
      "[I 2024-01-28 11:19:45,129] Trial 64 finished with value: 1.0 and parameters: {'lambda_l1': 5.502242622166044e-07, 'lambda_l2': 1.6981722211355592e-05, 'num_leaves': 172, 'feature_fraction': 0.5856030998458519, 'bagging_fraction': 0.5374351754101526}. Best is trial 0 with value: 1.0.\n",
      "[I 2024-01-28 11:19:45,230] Trial 65 finished with value: 1.0 and parameters: {'lambda_l1': 9.58291978405733, 'lambda_l2': 0.00805297431962734, 'num_leaves': 107, 'feature_fraction': 0.793292279920939, 'bagging_fraction': 0.9398653776416648}. Best is trial 0 with value: 1.0.\n",
      "[I 2024-01-28 11:19:45,361] Trial 66 finished with value: 1.0 and parameters: {'lambda_l1': 1.2182634407643535e-07, 'lambda_l2': 0.0006192418347021278, 'num_leaves': 152, 'feature_fraction': 0.44312854585102385, 'bagging_fraction': 0.6648192993933353}. Best is trial 0 with value: 1.0.\n",
      "[I 2024-01-28 11:19:45,547] Trial 67 finished with value: 1.0 and parameters: {'lambda_l1': 0.0001473761492950611, 'lambda_l2': 6.446406085254156e-05, 'num_leaves': 15, 'feature_fraction': 0.5291216358541634, 'bagging_fraction': 0.6017700728615916}. Best is trial 0 with value: 1.0.\n",
      "[I 2024-01-28 11:19:45,655] Trial 68 finished with value: 1.0 and parameters: {'lambda_l1': 0.0004522300217330714, 'lambda_l2': 0.8586123804474695, 'num_leaves': 244, 'feature_fraction': 0.9437384517936717, 'bagging_fraction': 0.564182698866768}. Best is trial 0 with value: 1.0.\n",
      "[I 2024-01-28 11:19:45,755] Trial 69 finished with value: 1.0 and parameters: {'lambda_l1': 2.069120497123143e-06, 'lambda_l2': 0.00027818863878151544, 'num_leaves': 2, 'feature_fraction': 0.627884760284468, 'bagging_fraction': 0.7781156933447438}. Best is trial 0 with value: 1.0.\n",
      "[I 2024-01-28 11:19:45,883] Trial 70 finished with value: 1.0 and parameters: {'lambda_l1': 1.5348513167926368e-05, 'lambda_l2': 1.683419027527452e-06, 'num_leaves': 215, 'feature_fraction': 0.566644680134284, 'bagging_fraction': 0.7268791708347185}. Best is trial 0 with value: 1.0.\n",
      "[I 2024-01-28 11:19:46,003] Trial 71 finished with value: 1.0 and parameters: {'lambda_l1': 0.07133852178235246, 'lambda_l2': 2.1983365231842837, 'num_leaves': 120, 'feature_fraction': 0.5003269723200706, 'bagging_fraction': 0.7879852044486128}. Best is trial 0 with value: 1.0.\n",
      "[I 2024-01-28 11:19:46,130] Trial 72 finished with value: 1.0 and parameters: {'lambda_l1': 0.019050117515764943, 'lambda_l2': 0.6934826262057691, 'num_leaves': 141, 'feature_fraction': 0.5917075362709305, 'bagging_fraction': 0.7550162971509403}. Best is trial 0 with value: 1.0.\n",
      "[I 2024-01-28 11:19:46,229] Trial 73 finished with value: 1.0 and parameters: {'lambda_l1': 0.8975687246528101, 'lambda_l2': 0.01809366173057214, 'num_leaves': 26, 'feature_fraction': 0.5344241696807358, 'bagging_fraction': 0.7444509849054375}. Best is trial 0 with value: 1.0.\n",
      "[I 2024-01-28 11:19:46,361] Trial 74 finished with value: 1.0 and parameters: {'lambda_l1': 0.45314119172707396, 'lambda_l2': 9.927783936691107, 'num_leaves': 66, 'feature_fraction': 0.4281413235860609, 'bagging_fraction': 0.7169987270299633}. Best is trial 0 with value: 1.0.\n",
      "[I 2024-01-28 11:19:46,524] Trial 75 finished with value: 1.0 and parameters: {'lambda_l1': 0.007523169327867848, 'lambda_l2': 0.05976275452934942, 'num_leaves': 13, 'feature_fraction': 0.6508743299869442, 'bagging_fraction': 0.686194290489351}. Best is trial 0 with value: 1.0.\n",
      "[I 2024-01-28 11:19:46,646] Trial 76 finished with value: 1.0 and parameters: {'lambda_l1': 0.03421073022745054, 'lambda_l2': 3.214377959327774, 'num_leaves': 35, 'feature_fraction': 0.6835919862333584, 'bagging_fraction': 0.7714464391002115}. Best is trial 0 with value: 1.0.\n",
      "[I 2024-01-28 11:19:46,765] Trial 77 finished with value: 1.0 and parameters: {'lambda_l1': 0.0014309219893372566, 'lambda_l2': 6.536579587705252e-08, 'num_leaves': 46, 'feature_fraction': 0.45175923878747015, 'bagging_fraction': 0.6188565953739409}. Best is trial 0 with value: 1.0.\n",
      "[I 2024-01-28 11:19:46,884] Trial 78 finished with value: 1.0 and parameters: {'lambda_l1': 6.507516919998826e-06, 'lambda_l2': 1.993354864424939e-07, 'num_leaves': 96, 'feature_fraction': 0.5557046238418992, 'bagging_fraction': 0.6622953757008121}. Best is trial 0 with value: 1.0.\n",
      "[I 2024-01-28 11:19:46,986] Trial 79 finished with value: 1.0 and parameters: {'lambda_l1': 1.7083930488753984, 'lambda_l2': 0.0045673778087603634, 'num_leaves': 59, 'feature_fraction': 0.6190262381794301, 'bagging_fraction': 0.8155342189031802}. Best is trial 0 with value: 1.0.\n",
      "[I 2024-01-28 11:19:47,120] Trial 80 finished with value: 1.0 and parameters: {'lambda_l1': 0.06681574269500509, 'lambda_l2': 2.7661917483236518e-05, 'num_leaves': 112, 'feature_fraction': 0.4039480660402189, 'bagging_fraction': 0.5770235251506044}. Best is trial 0 with value: 1.0.\n",
      "[I 2024-01-28 11:19:47,257] Trial 81 finished with value: 1.0 and parameters: {'lambda_l1': 4.5040089102250286e-05, 'lambda_l2': 2.689162380112027e-06, 'num_leaves': 238, 'feature_fraction': 0.4733612544021668, 'bagging_fraction': 0.4601711541241362}. Best is trial 0 with value: 1.0.\n",
      "[I 2024-01-28 11:19:47,386] Trial 82 finished with value: 1.0 and parameters: {'lambda_l1': 0.2857026630282317, 'lambda_l2': 1.0839086183031262e-06, 'num_leaves': 232, 'feature_fraction': 0.4204047823734435, 'bagging_fraction': 0.5494368413185341}. Best is trial 0 with value: 1.0.\n",
      "[I 2024-01-28 11:19:47,531] Trial 83 finished with value: 0.9415225601272112 and parameters: {'lambda_l1': 0.0023483765896929686, 'lambda_l2': 4.751233410646355e-07, 'num_leaves': 256, 'feature_fraction': 0.43234959273122225, 'bagging_fraction': 0.5207288075845015}. Best is trial 0 with value: 1.0.\n",
      "[I 2024-01-28 11:19:47,672] Trial 84 finished with value: 1.0 and parameters: {'lambda_l1': 0.00011399785360131286, 'lambda_l2': 1.2550180164957836e-08, 'num_leaves': 223, 'feature_fraction': 0.49512249818985843, 'bagging_fraction': 0.5902670929584233}. Best is trial 0 with value: 1.0.\n",
      "[I 2024-01-28 11:19:47,786] Trial 85 finished with value: 1.0 and parameters: {'lambda_l1': 0.007099743339247069, 'lambda_l2': 6.748388629826611e-06, 'num_leaves': 18, 'feature_fraction': 0.8371506613521995, 'bagging_fraction': 0.49134711546555904}. Best is trial 0 with value: 1.0.\n",
      "[I 2024-01-28 11:19:47,885] Trial 86 finished with value: 1.0 and parameters: {'lambda_l1': 4.439298812801794, 'lambda_l2': 2.3175464901716073e-07, 'num_leaves': 157, 'feature_fraction': 0.4670294124889422, 'bagging_fraction': 0.6946205662822257}. Best is trial 0 with value: 1.0.\n",
      "[I 2024-01-28 11:19:48,015] Trial 87 finished with value: 1.0 and parameters: {'lambda_l1': 0.000199408422655013, 'lambda_l2': 0.41082234965946324, 'num_leaves': 203, 'feature_fraction': 0.4453181642212127, 'bagging_fraction': 0.5020277967894992}. Best is trial 0 with value: 1.0.\n",
      "[I 2024-01-28 11:19:48,141] Trial 88 finished with value: 1.0 and parameters: {'lambda_l1': 0.0004531108880982192, 'lambda_l2': 0.001070204182357005, 'num_leaves': 124, 'feature_fraction': 0.5121338433509739, 'bagging_fraction': 0.6371034640321336}. Best is trial 0 with value: 1.0.\n",
      "[I 2024-01-28 11:19:48,319] Trial 89 finished with value: 1.0 and parameters: {'lambda_l1': 2.130945278318295e-07, 'lambda_l2': 1.2236556250260044e-07, 'num_leaves': 181, 'feature_fraction': 0.417025054645057, 'bagging_fraction': 0.5784682024866383}. Best is trial 0 with value: 1.0.\n",
      "[I 2024-01-28 11:19:48,449] Trial 90 finished with value: 1.0 and parameters: {'lambda_l1': 6.800850991189376e-07, 'lambda_l2': 0.00011738218416216454, 'num_leaves': 85, 'feature_fraction': 0.5999726445678852, 'bagging_fraction': 0.5341175699223929}. Best is trial 0 with value: 1.0.\n",
      "[I 2024-01-28 11:19:48,557] Trial 91 finished with value: 1.0 and parameters: {'lambda_l1': 5.8903097024471555e-05, 'lambda_l2': 0.014387177203919061, 'num_leaves': 136, 'feature_fraction': 0.9525525957159668, 'bagging_fraction': 0.5573159821022545}. Best is trial 0 with value: 1.0.\n",
      "[I 2024-01-28 11:19:48,665] Trial 92 finished with value: 1.0 and parameters: {'lambda_l1': 0.13725644627085357, 'lambda_l2': 0.046883942378772664, 'num_leaves': 8, 'feature_fraction': 0.9114184144087538, 'bagging_fraction': 0.7587601633954641}. Best is trial 0 with value: 1.0.\n",
      "[I 2024-01-28 11:19:48,776] Trial 93 finished with value: 1.0 and parameters: {'lambda_l1': 1.4043414044206695e-06, 'lambda_l2': 6.290374010825303e-07, 'num_leaves': 98, 'feature_fraction': 0.8942957868673551, 'bagging_fraction': 0.5194199403219408}. Best is trial 0 with value: 1.0.\n",
      "[I 2024-01-28 11:19:48,887] Trial 94 finished with value: 1.0 and parameters: {'lambda_l1': 0.0027806235988590278, 'lambda_l2': 0.003727228041631319, 'num_leaves': 103, 'feature_fraction': 0.9212939090679414, 'bagging_fraction': 0.7990494224036403}. Best is trial 0 with value: 1.0.\n",
      "[I 2024-01-28 11:19:49,009] Trial 95 finished with value: 1.0 and parameters: {'lambda_l1': 1.1937432770368869e-05, 'lambda_l2': 0.11362222280482932, 'num_leaves': 78, 'feature_fraction': 0.8467197437087581, 'bagging_fraction': 0.6037840331435269}. Best is trial 0 with value: 1.0.\n",
      "[I 2024-01-28 11:19:49,137] Trial 96 finished with value: 1.0 and parameters: {'lambda_l1': 0.0006630948890018961, 'lambda_l2': 5.044645450792908, 'num_leaves': 113, 'feature_fraction': 0.6690127458524847, 'bagging_fraction': 0.8313428942012888}. Best is trial 0 with value: 1.0.\n",
      "[I 2024-01-28 11:19:49,283] Trial 97 finished with value: 1.0 and parameters: {'lambda_l1': 3.157433275451631e-08, 'lambda_l2': 2.2335574963361988e-05, 'num_leaves': 143, 'feature_fraction': 0.4834885001767123, 'bagging_fraction': 0.46882374743541955}. Best is trial 0 with value: 1.0.\n",
      "[I 2024-01-28 11:19:49,421] Trial 98 finished with value: 1.0 and parameters: {'lambda_l1': 4.116386866184611e-06, 'lambda_l2': 6.52013032469593e-06, 'num_leaves': 9, 'feature_fraction': 0.7053287510439847, 'bagging_fraction': 0.5453078078748782}. Best is trial 0 with value: 1.0.\n",
      "[I 2024-01-28 11:19:49,536] Trial 99 finished with value: 1.0 and parameters: {'lambda_l1': 0.0012009491971530727, 'lambda_l2': 1.1812312498657801e-05, 'num_leaves': 23, 'feature_fraction': 0.6499991275689517, 'bagging_fraction': 0.7363726950720295}. Best is trial 0 with value: 1.0.\n"
     ]
    }
   ],
   "source": [
    "autoeval.exec()"
   ]
  },
  {
   "cell_type": "code",
   "execution_count": null,
   "metadata": {},
   "outputs": [],
   "source": []
  }
 ],
 "metadata": {
  "kernelspec": {
   "display_name": ".venv",
   "language": "python",
   "name": "python3"
  },
  "language_info": {
   "codemirror_mode": {
    "name": "ipython",
    "version": 3
   },
   "file_extension": ".py",
   "mimetype": "text/x-python",
   "name": "python",
   "nbconvert_exporter": "python",
   "pygments_lexer": "ipython3",
   "version": "3.9.18"
  }
 },
 "nbformat": 4,
 "nbformat_minor": 2
}
