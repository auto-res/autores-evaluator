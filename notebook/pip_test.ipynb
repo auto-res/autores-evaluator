{
 "cells": [
  {
   "cell_type": "code",
   "execution_count": 1,
   "metadata": {},
   "outputs": [
    {
     "name": "stdout",
     "output_type": "stream",
     "text": [
      "Requirement already satisfied: autoresevaluator in /Users/tanakatouma/vscode/autores-evaluator/.venv/lib/python3.9/site-packages (0.1.2)\n",
      "Collecting autoresevaluator\n",
      "  Downloading autoresevaluator-0.1.3-py3-none-any.whl (9.3 kB)\n",
      "Requirement already satisfied: openai<2.0.0,>=1.11.1 in /Users/tanakatouma/vscode/autores-evaluator/.venv/lib/python3.9/site-packages (from autoresevaluator) (1.11.1)\n",
      "Requirement already satisfied: optuna<4.0.0,>=3.5.0 in /Users/tanakatouma/vscode/autores-evaluator/.venv/lib/python3.9/site-packages (from autoresevaluator) (3.5.0)\n",
      "Requirement already satisfied: tqdm<5.0.0,>=4.66.1 in /Users/tanakatouma/vscode/autores-evaluator/.venv/lib/python3.9/site-packages (from autoresevaluator) (4.66.1)\n",
      "Requirement already satisfied: anyio<5,>=3.5.0 in /Users/tanakatouma/vscode/autores-evaluator/.venv/lib/python3.9/site-packages (from openai<2.0.0,>=1.11.1->autoresevaluator) (4.2.0)\n",
      "Requirement already satisfied: distro<2,>=1.7.0 in /Users/tanakatouma/vscode/autores-evaluator/.venv/lib/python3.9/site-packages (from openai<2.0.0,>=1.11.1->autoresevaluator) (1.9.0)\n",
      "Requirement already satisfied: httpx<1,>=0.23.0 in /Users/tanakatouma/vscode/autores-evaluator/.venv/lib/python3.9/site-packages (from openai<2.0.0,>=1.11.1->autoresevaluator) (0.26.0)\n",
      "Requirement already satisfied: pydantic<3,>=1.9.0 in /Users/tanakatouma/vscode/autores-evaluator/.venv/lib/python3.9/site-packages (from openai<2.0.0,>=1.11.1->autoresevaluator) (2.6.0)\n",
      "Requirement already satisfied: sniffio in /Users/tanakatouma/vscode/autores-evaluator/.venv/lib/python3.9/site-packages (from openai<2.0.0,>=1.11.1->autoresevaluator) (1.3.0)\n",
      "Requirement already satisfied: typing-extensions<5,>=4.7 in /Users/tanakatouma/vscode/autores-evaluator/.venv/lib/python3.9/site-packages (from openai<2.0.0,>=1.11.1->autoresevaluator) (4.9.0)\n",
      "Requirement already satisfied: alembic>=1.5.0 in /Users/tanakatouma/vscode/autores-evaluator/.venv/lib/python3.9/site-packages (from optuna<4.0.0,>=3.5.0->autoresevaluator) (1.13.1)\n",
      "Requirement already satisfied: colorlog in /Users/tanakatouma/vscode/autores-evaluator/.venv/lib/python3.9/site-packages (from optuna<4.0.0,>=3.5.0->autoresevaluator) (6.8.2)\n",
      "Requirement already satisfied: numpy in /Users/tanakatouma/vscode/autores-evaluator/.venv/lib/python3.9/site-packages (from optuna<4.0.0,>=3.5.0->autoresevaluator) (1.26.3)\n",
      "Requirement already satisfied: packaging>=20.0 in /Users/tanakatouma/vscode/autores-evaluator/.venv/lib/python3.9/site-packages (from optuna<4.0.0,>=3.5.0->autoresevaluator) (23.2)\n",
      "Requirement already satisfied: sqlalchemy>=1.3.0 in /Users/tanakatouma/vscode/autores-evaluator/.venv/lib/python3.9/site-packages (from optuna<4.0.0,>=3.5.0->autoresevaluator) (2.0.25)\n",
      "Requirement already satisfied: PyYAML in /Users/tanakatouma/vscode/autores-evaluator/.venv/lib/python3.9/site-packages (from optuna<4.0.0,>=3.5.0->autoresevaluator) (6.0.1)\n",
      "Requirement already satisfied: Mako in /Users/tanakatouma/vscode/autores-evaluator/.venv/lib/python3.9/site-packages (from alembic>=1.5.0->optuna<4.0.0,>=3.5.0->autoresevaluator) (1.3.0)\n",
      "Requirement already satisfied: idna>=2.8 in /Users/tanakatouma/vscode/autores-evaluator/.venv/lib/python3.9/site-packages (from anyio<5,>=3.5.0->openai<2.0.0,>=1.11.1->autoresevaluator) (3.6)\n",
      "Requirement already satisfied: exceptiongroup>=1.0.2 in /Users/tanakatouma/vscode/autores-evaluator/.venv/lib/python3.9/site-packages (from anyio<5,>=3.5.0->openai<2.0.0,>=1.11.1->autoresevaluator) (1.2.0)\n",
      "Requirement already satisfied: certifi in /Users/tanakatouma/vscode/autores-evaluator/.venv/lib/python3.9/site-packages (from httpx<1,>=0.23.0->openai<2.0.0,>=1.11.1->autoresevaluator) (2024.2.2)\n",
      "Requirement already satisfied: httpcore==1.* in /Users/tanakatouma/vscode/autores-evaluator/.venv/lib/python3.9/site-packages (from httpx<1,>=0.23.0->openai<2.0.0,>=1.11.1->autoresevaluator) (1.0.2)\n",
      "Requirement already satisfied: h11<0.15,>=0.13 in /Users/tanakatouma/vscode/autores-evaluator/.venv/lib/python3.9/site-packages (from httpcore==1.*->httpx<1,>=0.23.0->openai<2.0.0,>=1.11.1->autoresevaluator) (0.14.0)\n",
      "Requirement already satisfied: annotated-types>=0.4.0 in /Users/tanakatouma/vscode/autores-evaluator/.venv/lib/python3.9/site-packages (from pydantic<3,>=1.9.0->openai<2.0.0,>=1.11.1->autoresevaluator) (0.6.0)\n",
      "Requirement already satisfied: pydantic-core==2.16.1 in /Users/tanakatouma/vscode/autores-evaluator/.venv/lib/python3.9/site-packages (from pydantic<3,>=1.9.0->openai<2.0.0,>=1.11.1->autoresevaluator) (2.16.1)\n",
      "Requirement already satisfied: MarkupSafe>=0.9.2 in /Users/tanakatouma/vscode/autores-evaluator/.venv/lib/python3.9/site-packages (from Mako->alembic>=1.5.0->optuna<4.0.0,>=3.5.0->autoresevaluator) (2.1.4)\n",
      "Installing collected packages: autoresevaluator\n",
      "  Attempting uninstall: autoresevaluator\n",
      "    Found existing installation: autoresevaluator 0.1.2\n",
      "    Uninstalling autoresevaluator-0.1.2:\n",
      "      Successfully uninstalled autoresevaluator-0.1.2\n",
      "Successfully installed autoresevaluator-0.1.3\n",
      "\n",
      "\u001b[1m[\u001b[0m\u001b[34;49mnotice\u001b[0m\u001b[1;39;49m]\u001b[0m\u001b[39;49m A new release of pip is available: \u001b[0m\u001b[31;49m23.1.2\u001b[0m\u001b[39;49m -> \u001b[0m\u001b[32;49m24.0\u001b[0m\n",
      "\u001b[1m[\u001b[0m\u001b[34;49mnotice\u001b[0m\u001b[1;39;49m]\u001b[0m\u001b[39;49m To update, run: \u001b[0m\u001b[32;49mpip install --upgrade pip\u001b[0m\n",
      "Note: you may need to restart the kernel to use updated packages.\n"
     ]
    }
   ],
   "source": [
    "%pip install --upgrade autoresevaluator"
   ]
  },
  {
   "cell_type": "code",
   "execution_count": 2,
   "metadata": {},
   "outputs": [],
   "source": [
    "from autoresevaluator import AutoResEvaluator"
   ]
  },
  {
   "cell_type": "code",
   "execution_count": 3,
   "metadata": {},
   "outputs": [],
   "source": [
    "params = {\n",
    "    'lambda_l1': {'type': 'log_float', 'args': [1e-8, 10.0]},\n",
    "    'lambda_l2': {'type': 'log_float', 'args': [1e-8, 10.0]},\n",
    "    'num_leaves': {'type': 'int', 'args': [2, 256]},\n",
    "    'feature_fraction': {'type': 'float', 'args': [0.4, 1.0]},\n",
    "    'bagging_fraction': {'type': 'float', 'args': [0.4, 1.0]},\n",
    "    'verbosity': -1\n",
    "}"
   ]
  },
  {
   "cell_type": "code",
   "execution_count": 4,
   "metadata": {},
   "outputs": [],
   "source": [
    "are = AutoResEvaluator(\n",
    "    task_type='tabledata binary classification',\n",
    "    dataset_name='titanic',\n",
    "    model_path='/Users/tanakatouma/vscode/autores-evaluator/test/lightgbm_model.py',\n",
    "    params=params,\n",
    "    valuation_index='pr_auc'\n",
    "    )"
   ]
  },
  {
   "cell_type": "code",
   "execution_count": 5,
   "metadata": {},
   "outputs": [
    {
     "data": {
      "application/vnd.jupyter.widget-view+json": {
       "model_id": "cb89303f0d984eb0b945616c5c6eb6d8",
       "version_major": 2,
       "version_minor": 0
      },
      "text/plain": [
       "  0%|          | 0/100 [00:00<?, ?it/s]"
      ]
     },
     "metadata": {},
     "output_type": "display_data"
    }
   ],
   "source": [
    "are.exec()"
   ]
  },
  {
   "cell_type": "code",
   "execution_count": null,
   "metadata": {},
   "outputs": [],
   "source": []
  }
 ],
 "metadata": {
  "kernelspec": {
   "display_name": ".venv",
   "language": "python",
   "name": "python3"
  },
  "language_info": {
   "codemirror_mode": {
    "name": "ipython",
    "version": 3
   },
   "file_extension": ".py",
   "mimetype": "text/x-python",
   "name": "python",
   "nbconvert_exporter": "python",
   "pygments_lexer": "ipython3",
   "version": "3.9.18"
  }
 },
 "nbformat": 4,
 "nbformat_minor": 2
}
