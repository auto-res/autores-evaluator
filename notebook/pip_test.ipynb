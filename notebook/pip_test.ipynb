{
 "cells": [
  {
   "cell_type": "code",
   "execution_count": 1,
   "metadata": {},
   "outputs": [
    {
     "name": "stdout",
     "output_type": "stream",
     "text": [
      "Requirement already satisfied: autoresevaluator in /Users/tanakatouma/vscode/autores-evaluator/.venv/lib/python3.9/site-packages (0.1.1)\n",
      "Collecting autoresevaluator\n",
      "  Downloading autoresevaluator-0.1.2-py3-none-any.whl (7.4 kB)\n",
      "Requirement already satisfied: optuna<4.0.0,>=3.5.0 in /Users/tanakatouma/vscode/autores-evaluator/.venv/lib/python3.9/site-packages (from autoresevaluator) (3.5.0)\n",
      "Requirement already satisfied: alembic>=1.5.0 in /Users/tanakatouma/vscode/autores-evaluator/.venv/lib/python3.9/site-packages (from optuna<4.0.0,>=3.5.0->autoresevaluator) (1.13.1)\n",
      "Requirement already satisfied: colorlog in /Users/tanakatouma/vscode/autores-evaluator/.venv/lib/python3.9/site-packages (from optuna<4.0.0,>=3.5.0->autoresevaluator) (6.8.2)\n",
      "Requirement already satisfied: numpy in /Users/tanakatouma/vscode/autores-evaluator/.venv/lib/python3.9/site-packages (from optuna<4.0.0,>=3.5.0->autoresevaluator) (1.26.3)\n",
      "Requirement already satisfied: packaging>=20.0 in /Users/tanakatouma/vscode/autores-evaluator/.venv/lib/python3.9/site-packages (from optuna<4.0.0,>=3.5.0->autoresevaluator) (23.2)\n",
      "Requirement already satisfied: sqlalchemy>=1.3.0 in /Users/tanakatouma/vscode/autores-evaluator/.venv/lib/python3.9/site-packages (from optuna<4.0.0,>=3.5.0->autoresevaluator) (2.0.25)\n",
      "Requirement already satisfied: tqdm in /Users/tanakatouma/vscode/autores-evaluator/.venv/lib/python3.9/site-packages (from optuna<4.0.0,>=3.5.0->autoresevaluator) (4.66.1)\n",
      "Requirement already satisfied: PyYAML in /Users/tanakatouma/vscode/autores-evaluator/.venv/lib/python3.9/site-packages (from optuna<4.0.0,>=3.5.0->autoresevaluator) (6.0.1)\n",
      "Requirement already satisfied: Mako in /Users/tanakatouma/vscode/autores-evaluator/.venv/lib/python3.9/site-packages (from alembic>=1.5.0->optuna<4.0.0,>=3.5.0->autoresevaluator) (1.3.0)\n",
      "Requirement already satisfied: typing-extensions>=4 in /Users/tanakatouma/vscode/autores-evaluator/.venv/lib/python3.9/site-packages (from alembic>=1.5.0->optuna<4.0.0,>=3.5.0->autoresevaluator) (4.9.0)\n",
      "Requirement already satisfied: MarkupSafe>=0.9.2 in /Users/tanakatouma/vscode/autores-evaluator/.venv/lib/python3.9/site-packages (from Mako->alembic>=1.5.0->optuna<4.0.0,>=3.5.0->autoresevaluator) (2.1.4)\n",
      "Installing collected packages: autoresevaluator\n",
      "  Attempting uninstall: autoresevaluator\n",
      "    Found existing installation: autoresevaluator 0.1.1\n",
      "    Uninstalling autoresevaluator-0.1.1:\n",
      "      Successfully uninstalled autoresevaluator-0.1.1\n",
      "Successfully installed autoresevaluator-0.1.2\n",
      "\n",
      "\u001b[1m[\u001b[0m\u001b[34;49mnotice\u001b[0m\u001b[1;39;49m]\u001b[0m\u001b[39;49m A new release of pip is available: \u001b[0m\u001b[31;49m23.1.2\u001b[0m\u001b[39;49m -> \u001b[0m\u001b[32;49m24.0\u001b[0m\n",
      "\u001b[1m[\u001b[0m\u001b[34;49mnotice\u001b[0m\u001b[1;39;49m]\u001b[0m\u001b[39;49m To update, run: \u001b[0m\u001b[32;49mpip install --upgrade pip\u001b[0m\n",
      "Note: you may need to restart the kernel to use updated packages.\n"
     ]
    }
   ],
   "source": [
    "%pip install --upgrade autoresevaluator"
   ]
  },
  {
   "cell_type": "code",
   "execution_count": 1,
   "metadata": {},
   "outputs": [],
   "source": [
    "from autoresevaluator import AutoResEvaluator"
   ]
  },
  {
   "cell_type": "code",
   "execution_count": 2,
   "metadata": {},
   "outputs": [],
   "source": [
    "params = {\n",
    "    'lambda_l1': {'type': 'log_float', 'args': [1e-8, 10.0]},\n",
    "    'lambda_l2': {'type': 'log_float', 'args': [1e-8, 10.0]},\n",
    "    'num_leaves': {'type': 'int', 'args': [2, 256]},\n",
    "    'feature_fraction': {'type': 'float', 'args': [0.4, 1.0]},\n",
    "    'bagging_fraction': {'type': 'float', 'args': [0.4, 1.0]},\n",
    "    'verbosity': -1\n",
    "}"
   ]
  },
  {
   "cell_type": "code",
   "execution_count": 3,
   "metadata": {},
   "outputs": [],
   "source": [
    "are = AutoResEvaluator(\n",
    "    task_type='tabledata binary classification',\n",
    "    dataset_name='titanic',\n",
    "    model_path='/Users/tanakatouma/vscode/autores-evaluator/test/lightgbm_model.py',\n",
    "    params=params,\n",
    "    valuation_index='pr_auc'\n",
    "    )"
   ]
  },
  {
   "cell_type": "code",
   "execution_count": 4,
   "metadata": {},
   "outputs": [
    {
     "name": "stderr",
     "output_type": "stream",
     "text": [
      "[I 2024-02-05 15:50:01,470] A new study created in memory with name: no-name-1c66fa22-b0f2-40e1-b279-f92ad9da0e34\n",
      "[I 2024-02-05 15:50:01,612] Trial 0 finished with value: 1.0 and parameters: {'lambda_l1': 2.2991577028813, 'lambda_l2': 2.1128274916207773e-08, 'num_leaves': 166, 'feature_fraction': 0.9411368267992528, 'bagging_fraction': 0.9759053103738206}. Best is trial 0 with value: 1.0.\n",
      "[I 2024-02-05 15:50:01,724] Trial 1 finished with value: 1.0 and parameters: {'lambda_l1': 0.01316426737502644, 'lambda_l2': 0.0012463471108751048, 'num_leaves': 12, 'feature_fraction': 0.42966425408239245, 'bagging_fraction': 0.8834124452258805}. Best is trial 0 with value: 1.0.\n",
      "[I 2024-02-05 15:50:01,867] Trial 2 finished with value: 1.0 and parameters: {'lambda_l1': 0.08716464576577293, 'lambda_l2': 0.40985156870074085, 'num_leaves': 253, 'feature_fraction': 0.46559582887431306, 'bagging_fraction': 0.8150653744360141}. Best is trial 0 with value: 1.0.\n",
      "[I 2024-02-05 15:50:01,969] Trial 3 finished with value: 1.0 and parameters: {'lambda_l1': 0.164014549976187, 'lambda_l2': 1.1152128145860704e-05, 'num_leaves': 6, 'feature_fraction': 0.48978182176157997, 'bagging_fraction': 0.5828615393834692}. Best is trial 0 with value: 1.0.\n",
      "[I 2024-02-05 15:50:02,088] Trial 4 finished with value: 1.0 and parameters: {'lambda_l1': 2.438938731658282e-07, 'lambda_l2': 1.1034685333219683, 'num_leaves': 90, 'feature_fraction': 0.5777476370884866, 'bagging_fraction': 0.4928992834142008}. Best is trial 0 with value: 1.0.\n",
      "[I 2024-02-05 15:50:02,187] Trial 5 finished with value: 1.0 and parameters: {'lambda_l1': 0.6044058737440198, 'lambda_l2': 2.2521247427078644e-08, 'num_leaves': 93, 'feature_fraction': 0.5147877246600993, 'bagging_fraction': 0.7728589756903649}. Best is trial 0 with value: 1.0.\n",
      "[I 2024-02-05 15:50:02,293] Trial 6 finished with value: 1.0 and parameters: {'lambda_l1': 0.008996557447650686, 'lambda_l2': 3.226347092147513e-08, 'num_leaves': 116, 'feature_fraction': 0.8256526231964578, 'bagging_fraction': 0.7352026909135022}. Best is trial 0 with value: 1.0.\n",
      "[I 2024-02-05 15:50:02,411] Trial 7 finished with value: 1.0 and parameters: {'lambda_l1': 2.0418119755542226e-06, 'lambda_l2': 1.0826058822165945, 'num_leaves': 197, 'feature_fraction': 0.7325687905880307, 'bagging_fraction': 0.5345912094297252}. Best is trial 0 with value: 1.0.\n",
      "[I 2024-02-05 15:50:02,513] Trial 8 finished with value: 1.0 and parameters: {'lambda_l1': 4.904072101239063e-06, 'lambda_l2': 1.7278226754255624e-05, 'num_leaves': 190, 'feature_fraction': 0.9017775239511536, 'bagging_fraction': 0.8307364828294022}. Best is trial 0 with value: 1.0.\n",
      "[I 2024-02-05 15:50:02,612] Trial 9 finished with value: 1.0 and parameters: {'lambda_l1': 3.674698426401308, 'lambda_l2': 1.710260510685651e-08, 'num_leaves': 199, 'feature_fraction': 0.6011269047760944, 'bagging_fraction': 0.7267645553953219}. Best is trial 0 with value: 1.0.\n",
      "[I 2024-02-05 15:50:02,723] Trial 10 finished with value: 1.0 and parameters: {'lambda_l1': 0.0001808784616770936, 'lambda_l2': 2.0565457510785722e-06, 'num_leaves': 153, 'feature_fraction': 0.9902081630301627, 'bagging_fraction': 0.9735004709140858}. Best is trial 0 with value: 1.0.\n",
      "[I 2024-02-05 15:50:02,848] Trial 11 finished with value: 1.0 and parameters: {'lambda_l1': 0.004382768006731693, 'lambda_l2': 0.00372856260859206, 'num_leaves': 5, 'feature_fraction': 0.7292121406745237, 'bagging_fraction': 0.9955344666766575}. Best is trial 0 with value: 1.0.\n",
      "[I 2024-02-05 15:50:02,952] Trial 12 finished with value: 1.0 and parameters: {'lambda_l1': 8.07602166901818, 'lambda_l2': 0.0032654615396382155, 'num_leaves': 54, 'feature_fraction': 0.8538424748424929, 'bagging_fraction': 0.9097365250793771}. Best is trial 0 with value: 1.0.\n",
      "[I 2024-02-05 15:50:03,090] Trial 13 finished with value: 1.0 and parameters: {'lambda_l1': 0.0004451851964091149, 'lambda_l2': 0.00046883504647333844, 'num_leaves': 154, 'feature_fraction': 0.40344878676599405, 'bagging_fraction': 0.8924699840696825}. Best is trial 0 with value: 1.0.\n",
      "[I 2024-02-05 15:50:03,237] Trial 14 finished with value: 1.0 and parameters: {'lambda_l1': 0.011634633197992596, 'lambda_l2': 0.06599527357960408, 'num_leaves': 50, 'feature_fraction': 0.6492334404646424, 'bagging_fraction': 0.6442879561221488}. Best is trial 0 with value: 1.0.\n",
      "[I 2024-02-05 15:50:03,350] Trial 15 finished with value: 1.0 and parameters: {'lambda_l1': 0.0002765946202922001, 'lambda_l2': 7.351157310223274e-07, 'num_leaves': 153, 'feature_fraction': 0.9760242400864886, 'bagging_fraction': 0.403854514560025}. Best is trial 0 with value: 1.0.\n",
      "[I 2024-02-05 15:50:03,463] Trial 16 finished with value: 1.0 and parameters: {'lambda_l1': 0.34078299052655836, 'lambda_l2': 0.00012083807096027739, 'num_leaves': 250, 'feature_fraction': 0.6771631405541101, 'bagging_fraction': 0.9044306010986949}. Best is trial 0 with value: 1.0.\n",
      "[I 2024-02-05 15:50:03,585] Trial 17 finished with value: 1.0 and parameters: {'lambda_l1': 2.2309121099713473e-08, 'lambda_l2': 0.015263230835202783, 'num_leaves': 75, 'feature_fraction': 0.8067678221503992, 'bagging_fraction': 0.8638435331655343}. Best is trial 0 with value: 1.0.\n",
      "[I 2024-02-05 15:50:03,704] Trial 18 finished with value: 1.0 and parameters: {'lambda_l1': 1.7183438170241025, 'lambda_l2': 3.143526879746056e-07, 'num_leaves': 125, 'feature_fraction': 0.9251231388654972, 'bagging_fraction': 0.9554148701595032}. Best is trial 0 with value: 1.0.\n",
      "[I 2024-02-05 15:50:03,846] Trial 19 finished with value: 1.0 and parameters: {'lambda_l1': 0.05764116693220844, 'lambda_l2': 0.00016658559208661164, 'num_leaves': 226, 'feature_fraction': 0.7734120103697797, 'bagging_fraction': 0.782851984978244}. Best is trial 0 with value: 1.0.\n",
      "[I 2024-02-05 15:50:03,979] Trial 20 finished with value: 1.0 and parameters: {'lambda_l1': 0.0011992096779760192, 'lambda_l2': 1.6669218460882057e-05, 'num_leaves': 40, 'feature_fraction': 0.6009742826004018, 'bagging_fraction': 0.6648930050752784}. Best is trial 0 with value: 1.0.\n",
      "[I 2024-02-05 15:50:04,114] Trial 21 finished with value: 1.0 and parameters: {'lambda_l1': 0.04882370861077174, 'lambda_l2': 6.1247057584401965, 'num_leaves': 250, 'feature_fraction': 0.4134439282377779, 'bagging_fraction': 0.8144406903267154}. Best is trial 0 with value: 1.0.\n",
      "[I 2024-02-05 15:50:04,227] Trial 22 finished with value: 1.0 and parameters: {'lambda_l1': 0.05545226523777999, 'lambda_l2': 0.1564863173477381, 'num_leaves': 179, 'feature_fraction': 0.4832910761758396, 'bagging_fraction': 0.9412900216701306}. Best is trial 0 with value: 1.0.\n",
      "[I 2024-02-05 15:50:04,356] Trial 23 finished with value: 1.0 and parameters: {'lambda_l1': 3.62136138236236e-05, 'lambda_l2': 0.0007022985808116969, 'num_leaves': 221, 'feature_fraction': 0.45631933319301576, 'bagging_fraction': 0.8577096667549764}. Best is trial 0 with value: 1.0.\n",
      "[I 2024-02-05 15:50:04,491] Trial 24 finished with value: 1.0 and parameters: {'lambda_l1': 0.002712477175068529, 'lambda_l2': 0.10782643192765454, 'num_leaves': 226, 'feature_fraction': 0.5271089566617811, 'bagging_fraction': 0.9257084868326411}. Best is trial 0 with value: 1.0.\n",
      "[I 2024-02-05 15:50:04,594] Trial 25 finished with value: 1.0 and parameters: {'lambda_l1': 1.2231538571473202, 'lambda_l2': 9.792127354818515, 'num_leaves': 167, 'feature_fraction': 0.5501325638122199, 'bagging_fraction': 0.7950799122873767}. Best is trial 0 with value: 1.0.\n",
      "[I 2024-02-05 15:50:04,719] Trial 26 finished with value: 1.0 and parameters: {'lambda_l1': 0.1822593828168104, 'lambda_l2': 0.013935604076348324, 'num_leaves': 32, 'feature_fraction': 0.44374262783702295, 'bagging_fraction': 0.8578299108469435}. Best is trial 0 with value: 1.0.\n",
      "[I 2024-02-05 15:50:04,826] Trial 27 finished with value: 1.0 and parameters: {'lambda_l1': 9.131074146311287, 'lambda_l2': 1.776983368052492e-07, 'num_leaves': 116, 'feature_fraction': 0.4450204109593604, 'bagging_fraction': 0.9988864696188098}. Best is trial 0 with value: 1.0.\n",
      "[I 2024-02-05 15:50:04,940] Trial 28 finished with value: 1.0 and parameters: {'lambda_l1': 0.02552849209110385, 'lambda_l2': 0.6729934052545523, 'num_leaves': 212, 'feature_fraction': 0.6292979467026418, 'bagging_fraction': 0.7496486702239413}. Best is trial 0 with value: 1.0.\n",
      "[I 2024-02-05 15:50:05,062] Trial 29 finished with value: 1.0 and parameters: {'lambda_l1': 0.1486592764317367, 'lambda_l2': 4.604026169850928e-06, 'num_leaves': 136, 'feature_fraction': 0.4939037477217855, 'bagging_fraction': 0.8719336629214125}. Best is trial 0 with value: 1.0.\n",
      "[I 2024-02-05 15:50:05,169] Trial 30 finished with value: 1.0 and parameters: {'lambda_l1': 0.5524631091422232, 'lambda_l2': 0.001901270184574482, 'num_leaves': 73, 'feature_fraction': 0.5526828937290829, 'bagging_fraction': 0.7044752250926838}. Best is trial 0 with value: 1.0.\n",
      "[I 2024-02-05 15:50:05,281] Trial 31 finished with value: 1.0 and parameters: {'lambda_l1': 0.15041636877261533, 'lambda_l2': 3.798212086091002e-05, 'num_leaves': 3, 'feature_fraction': 0.48584615736602266, 'bagging_fraction': 0.6252421650907605}. Best is trial 0 with value: 1.0.\n",
      "[I 2024-02-05 15:50:05,388] Trial 32 finished with value: 1.0 and parameters: {'lambda_l1': 1.134625220551097, 'lambda_l2': 1.3704831342431633e-07, 'num_leaves': 25, 'feature_fraction': 0.5168040725658167, 'bagging_fraction': 0.5647019227750607}. Best is trial 0 with value: 1.0.\n",
      "[I 2024-02-05 15:50:05,513] Trial 33 finished with value: 1.0 and parameters: {'lambda_l1': 0.018060047417111022, 'lambda_l2': 6.565351352934164e-08, 'num_leaves': 90, 'feature_fraction': 0.5602930981222672, 'bagging_fraction': 0.4118637144674236}. Best is trial 0 with value: 1.0.\n",
      "[I 2024-02-05 15:50:05,641] Trial 34 finished with value: 1.0 and parameters: {'lambda_l1': 0.003854074783233103, 'lambda_l2': 1.0525347038662766e-08, 'num_leaves': 14, 'feature_fraction': 0.428103639417823, 'bagging_fraction': 0.4874670664474352}. Best is trial 0 with value: 1.0.\n",
      "[I 2024-02-05 15:50:05,750] Trial 35 finished with value: 1.0 and parameters: {'lambda_l1': 0.39740632100499546, 'lambda_l2': 4.338582782130893e-06, 'num_leaves': 69, 'feature_fraction': 0.455837997074228, 'bagging_fraction': 0.5868735683338746}. Best is trial 0 with value: 1.0.\n",
      "[I 2024-02-05 15:50:05,844] Trial 36 finished with value: 1.0 and parameters: {'lambda_l1': 2.561020298191635, 'lambda_l2': 6.385838264151725e-05, 'num_leaves': 102, 'feature_fraction': 0.5920568318382344, 'bagging_fraction': 0.5000423157458024}. Best is trial 0 with value: 1.0.\n",
      "[I 2024-02-05 15:50:05,947] Trial 37 finished with value: 1.0 and parameters: {'lambda_l1': 7.097470876676818e-05, 'lambda_l2': 1.0926650209151798e-06, 'num_leaves': 57, 'feature_fraction': 0.8816259070905093, 'bagging_fraction': 0.8237537261645239}. Best is trial 0 with value: 1.0.\n",
      "[I 2024-02-05 15:50:06,057] Trial 38 finished with value: 1.0 and parameters: {'lambda_l1': 0.07516848498304422, 'lambda_l2': 0.019711703026073422, 'num_leaves': 18, 'feature_fraction': 0.9520030544468792, 'bagging_fraction': 0.7480105625814543}. Best is trial 0 with value: 1.0.\n",
      "[I 2024-02-05 15:50:06,180] Trial 39 finished with value: 1.0 and parameters: {'lambda_l1': 0.001476438289756494, 'lambda_l2': 1.3692475898495638e-05, 'num_leaves': 105, 'feature_fraction': 0.7732023261056948, 'bagging_fraction': 0.9731253892318098}. Best is trial 0 with value: 1.0.\n",
      "[I 2024-02-05 15:50:06,311] Trial 40 finished with value: 1.0 and parameters: {'lambda_l1': 3.092171937488479e-06, 'lambda_l2': 0.6049258704662122, 'num_leaves': 199, 'feature_fraction': 0.6936752896797458, 'bagging_fraction': 0.890044104078436}. Best is trial 0 with value: 1.0.\n",
      "[I 2024-02-05 15:50:06,446] Trial 41 finished with value: 1.0 and parameters: {'lambda_l1': 3.743077379250982e-08, 'lambda_l2': 3.254542877718204, 'num_leaves': 35, 'feature_fraction': 0.4809084673527347, 'bagging_fraction': 0.4614637167515433}. Best is trial 0 with value: 1.0.\n",
      "[I 2024-02-05 15:50:06,573] Trial 42 finished with value: 1.0 and parameters: {'lambda_l1': 2.566746565234048e-07, 'lambda_l2': 2.4119735985435478, 'num_leaves': 91, 'feature_fraction': 0.5189188147052892, 'bagging_fraction': 0.4411501937499044}. Best is trial 0 with value: 1.0.\n",
      "[I 2024-02-05 15:50:06,701] Trial 43 finished with value: 1.0 and parameters: {'lambda_l1': 1.1159154091018707e-07, 'lambda_l2': 0.32799266199165933, 'num_leaves': 147, 'feature_fraction': 0.40137583570825486, 'bagging_fraction': 0.5394251112966058}. Best is trial 0 with value: 1.0.\n",
      "[I 2024-02-05 15:50:06,838] Trial 44 finished with value: 1.0 and parameters: {'lambda_l1': 1.1932556898546761e-05, 'lambda_l2': 0.04729617463050314, 'num_leaves': 180, 'feature_fraction': 0.5774729651667273, 'bagging_fraction': 0.6066963005281163}. Best is trial 0 with value: 1.0.\n",
      "[I 2024-02-05 15:50:06,973] Trial 45 finished with value: 1.0 and parameters: {'lambda_l1': 0.010983676042670214, 'lambda_l2': 0.0012354446051887475, 'num_leaves': 45, 'feature_fraction': 0.5377801757032061, 'bagging_fraction': 0.5421422732026929}. Best is trial 0 with value: 1.0.\n",
      "[I 2024-02-05 15:50:07,078] Trial 46 finished with value: 1.0 and parameters: {'lambda_l1': 5.917589421960619, 'lambda_l2': 3.0940341839222315e-08, 'num_leaves': 240, 'feature_fraction': 0.648993199134822, 'bagging_fraction': 0.5038425906915248}. Best is trial 0 with value: 1.0.\n",
      "[I 2024-02-05 15:50:07,196] Trial 47 finished with value: 1.0 and parameters: {'lambda_l1': 8.385602378368428e-07, 'lambda_l2': 0.006651131005314663, 'num_leaves': 61, 'feature_fraction': 0.7366638532229859, 'bagging_fraction': 0.697648635602171}. Best is trial 0 with value: 1.0.\n",
      "[I 2024-02-05 15:50:07,324] Trial 48 finished with value: 1.0 and parameters: {'lambda_l1': 0.000619021781354926, 'lambda_l2': 0.23071078930398897, 'num_leaves': 14, 'feature_fraction': 0.5009221263897213, 'bagging_fraction': 0.964881233771258}. Best is trial 0 with value: 1.0.\n",
      "[I 2024-02-05 15:50:07,429] Trial 49 finished with value: 1.0 and parameters: {'lambda_l1': 0.7384122678482827, 'lambda_l2': 1.8953265499782284, 'num_leaves': 167, 'feature_fraction': 0.6227441615375151, 'bagging_fraction': 0.9214542340518087}. Best is trial 0 with value: 1.0.\n",
      "[I 2024-02-05 15:50:07,544] Trial 50 finished with value: 1.0 and parameters: {'lambda_l1': 2.8184000582085065, 'lambda_l2': 0.00025224114355588593, 'num_leaves': 137, 'feature_fraction': 0.4651026432126945, 'bagging_fraction': 0.6840571793957151}. Best is trial 0 with value: 1.0.\n",
      "[I 2024-02-05 15:50:07,694] Trial 51 finished with value: 1.0 and parameters: {'lambda_l1': 0.19209147266416582, 'lambda_l2': 2.6493321137152204e-08, 'num_leaves': 123, 'feature_fraction': 0.42775673616221954, 'bagging_fraction': 0.7789494343046848}. Best is trial 0 with value: 1.0.\n",
      "[I 2024-02-05 15:50:07,840] Trial 52 finished with value: 1.0 and parameters: {'lambda_l1': 0.005117623604506781, 'lambda_l2': 4.09068152887091e-07, 'num_leaves': 84, 'feature_fraction': 0.5106532960434095, 'bagging_fraction': 0.7276724757457993}. Best is trial 0 with value: 1.0.\n",
      "[I 2024-02-05 15:50:07,948] Trial 53 finished with value: 1.0 and parameters: {'lambda_l1': 0.3649780969880457, 'lambda_l2': 2.0928482868823527e-06, 'num_leaves': 25, 'feature_fraction': 0.8435080549821052, 'bagging_fraction': 0.805902642788811}. Best is trial 0 with value: 1.0.\n",
      "[I 2024-02-05 15:50:08,078] Trial 54 finished with value: 1.0 and parameters: {'lambda_l1': 0.048738037423888034, 'lambda_l2': 7.658919026051024e-08, 'num_leaves': 191, 'feature_fraction': 0.46997162326667946, 'bagging_fraction': 0.7708024815958919}. Best is trial 0 with value: 1.0.\n",
      "[I 2024-02-05 15:50:08,181] Trial 55 finished with value: 1.0 and parameters: {'lambda_l1': 1.292979251915463, 'lambda_l2': 6.870774605968577e-08, 'num_leaves': 98, 'feature_fraction': 0.4267660282524461, 'bagging_fraction': 0.840728247475802}. Best is trial 0 with value: 1.0.\n",
      "[I 2024-02-05 15:50:08,276] Trial 56 finished with value: 1.0 and parameters: {'lambda_l1': 4.308862237193452, 'lambda_l2': 0.03192066931167648, 'num_leaves': 2, 'feature_fraction': 0.5741396587646526, 'bagging_fraction': 0.9420262251624508}. Best is trial 0 with value: 1.0.\n",
      "[I 2024-02-05 15:50:08,483] Trial 57 finished with value: 1.0 and parameters: {'lambda_l1': 1.2837891212224153e-08, 'lambda_l2': 1.1558783074523193e-08, 'num_leaves': 113, 'feature_fraction': 0.536061771654109, 'bagging_fraction': 0.8861111161934356}. Best is trial 0 with value: 1.0.\n",
      "[I 2024-02-05 15:50:08,647] Trial 58 finished with value: 1.0 and parameters: {'lambda_l1': 0.023389871210645445, 'lambda_l2': 0.08305556901788338, 'num_leaves': 208, 'feature_fraction': 0.8101791290475956, 'bagging_fraction': 0.8421320864868429}. Best is trial 0 with value: 1.0.\n",
      "[I 2024-02-05 15:50:08,790] Trial 59 finished with value: 1.0 and parameters: {'lambda_l1': 0.0001225942124638506, 'lambda_l2': 2.387686711738042e-07, 'num_leaves': 65, 'feature_fraction': 0.4434116716852266, 'bagging_fraction': 0.7549152572141797}. Best is trial 0 with value: 1.0.\n",
      "[I 2024-02-05 15:50:08,944] Trial 60 finished with value: 1.0 and parameters: {'lambda_l1': 1.0877247050832046e-05, 'lambda_l2': 0.00783357757161252, 'num_leaves': 235, 'feature_fraction': 0.5009030595062296, 'bagging_fraction': 0.6418621897048691}. Best is trial 0 with value: 1.0.\n",
      "[I 2024-02-05 15:50:09,051] Trial 61 finished with value: 1.0 and parameters: {'lambda_l1': 0.08449600966316666, 'lambda_l2': 2.44236923709457e-08, 'num_leaves': 112, 'feature_fraction': 0.9909302600680167, 'bagging_fraction': 0.7181576664636887}. Best is trial 0 with value: 1.0.\n",
      "[I 2024-02-05 15:50:09,154] Trial 62 finished with value: 1.0 and parameters: {'lambda_l1': 0.013198512343509487, 'lambda_l2': 4.7187661901191585e-08, 'num_leaves': 138, 'feature_fraction': 0.9111470496802391, 'bagging_fraction': 0.6641719467834231}. Best is trial 0 with value: 1.0.\n",
      "[I 2024-02-05 15:50:09,266] Trial 63 finished with value: 1.0 and parameters: {'lambda_l1': 0.006318925401761765, 'lambda_l2': 7.050192583501321e-07, 'num_leaves': 82, 'feature_fraction': 0.9515356914963127, 'bagging_fraction': 0.9097168499006101}. Best is trial 0 with value: 1.0.\n",
      "[I 2024-02-05 15:50:09,371] Trial 64 finished with value: 1.0 and parameters: {'lambda_l1': 0.2176736493226819, 'lambda_l2': 1.0287488348998962e-07, 'num_leaves': 164, 'feature_fraction': 0.8738275309213476, 'bagging_fraction': 0.7848686080301623}. Best is trial 0 with value: 1.0.\n",
      "[I 2024-02-05 15:50:09,480] Trial 65 finished with value: 1.0 and parameters: {'lambda_l1': 0.03198129437853308, 'lambda_l2': 1.9002548430285468e-08, 'num_leaves': 120, 'feature_fraction': 0.7609590084332851, 'bagging_fraction': 0.8166449736193301}. Best is trial 0 with value: 1.0.\n",
      "[I 2024-02-05 15:50:09,593] Trial 66 finished with value: 1.0 and parameters: {'lambda_l1': 0.5709641815093949, 'lambda_l2': 0.7192674160090233, 'num_leaves': 132, 'feature_fraction': 0.8169755473555258, 'bagging_fraction': 0.7673055849366335}. Best is trial 0 with value: 1.0.\n",
      "[I 2024-02-05 15:50:09,711] Trial 67 finished with value: 1.0 and parameters: {'lambda_l1': 0.0016151937477864523, 'lambda_l2': 9.943514082093702e-06, 'num_leaves': 48, 'feature_fraction': 0.8391210443362171, 'bagging_fraction': 0.7244177437912163}. Best is trial 0 with value: 1.0.\n",
      "[I 2024-02-05 15:50:09,826] Trial 68 finished with value: 1.0 and parameters: {'lambda_l1': 0.08918553891329736, 'lambda_l2': 4.2359127884020104e-05, 'num_leaves': 107, 'feature_fraction': 0.6685470238955482, 'bagging_fraction': 0.5784996061410516}. Best is trial 0 with value: 1.0.\n",
      "[I 2024-02-05 15:50:09,949] Trial 69 finished with value: 1.0 and parameters: {'lambda_l1': 0.0006074144768797373, 'lambda_l2': 9.908062633283729, 'num_leaves': 253, 'feature_fraction': 0.4738801758474597, 'bagging_fraction': 0.8714562866539497}. Best is trial 0 with value: 1.0.\n",
      "[I 2024-02-05 15:50:10,055] Trial 70 finished with value: 1.0 and parameters: {'lambda_l1': 2.196651969044795, 'lambda_l2': 0.0007485463482064021, 'num_leaves': 147, 'feature_fraction': 0.9672708021542561, 'bagging_fraction': 0.7347727278199027}. Best is trial 0 with value: 1.0.\n",
      "[I 2024-02-05 15:50:10,183] Trial 71 finished with value: 1.0 and parameters: {'lambda_l1': 4.94913159861112e-07, 'lambda_l2': 0.6802913483558124, 'num_leaves': 184, 'feature_fraction': 0.7515416699797192, 'bagging_fraction': 0.47322644422606086}. Best is trial 0 with value: 1.0.\n",
      "[I 2024-02-05 15:50:10,310] Trial 72 finished with value: 1.0 and parameters: {'lambda_l1': 2.3455483301273565e-06, 'lambda_l2': 1.2082515126082984, 'num_leaves': 218, 'feature_fraction': 0.7957649945549271, 'bagging_fraction': 0.5301447385119616}. Best is trial 0 with value: 1.0.\n",
      "[I 2024-02-05 15:50:10,416] Trial 73 finished with value: 1.0 and parameters: {'lambda_l1': 8.37135139497615e-08, 'lambda_l2': 0.1649673318350524, 'num_leaves': 159, 'feature_fraction': 0.9315768234691864, 'bagging_fraction': 0.5232265371699454}. Best is trial 0 with value: 1.0.\n",
      "[I 2024-02-05 15:50:10,526] Trial 74 finished with value: 1.0 and parameters: {'lambda_l1': 1.0167619077237886, 'lambda_l2': 0.29469949057529476, 'num_leaves': 204, 'feature_fraction': 0.7169179606600966, 'bagging_fraction': 0.9851299049078639}. Best is trial 0 with value: 1.0.\n",
      "[I 2024-02-05 15:50:10,667] Trial 75 finished with value: 1.0 and parameters: {'lambda_l1': 1.1572939312800586e-06, 'lambda_l2': 1.338745793026613, 'num_leaves': 237, 'feature_fraction': 0.41478932758583803, 'bagging_fraction': 0.5595042773858018}. Best is trial 0 with value: 1.0.\n",
      "[I 2024-02-05 15:50:10,806] Trial 76 finished with value: 1.0 and parameters: {'lambda_l1': 1.2672334058106413e-07, 'lambda_l2': 4.7261313129486755, 'num_leaves': 12, 'feature_fraction': 0.4502336896513426, 'bagging_fraction': 0.44746337365019373}. Best is trial 0 with value: 1.0.\n",
      "[I 2024-02-05 15:50:10,934] Trial 77 finished with value: 1.0 and parameters: {'lambda_l1': 0.009023100559613355, 'lambda_l2': 0.00012812924565465912, 'num_leaves': 192, 'feature_fraction': 0.6929873256005026, 'bagging_fraction': 0.5091159188823376}. Best is trial 0 with value: 1.0.\n",
      "[I 2024-02-05 15:50:11,050] Trial 78 finished with value: 1.0 and parameters: {'lambda_l1': 0.03419957302936404, 'lambda_l2': 3.9690809043831874e-08, 'num_leaves': 78, 'feature_fraction': 0.6204408248131138, 'bagging_fraction': 0.6051664275416876}. Best is trial 0 with value: 1.0.\n",
      "[I 2024-02-05 15:50:11,161] Trial 79 finished with value: 1.0 and parameters: {'lambda_l1': 0.290685855174358, 'lambda_l2': 1.0064767514339555e-08, 'num_leaves': 175, 'feature_fraction': 0.8809384233841757, 'bagging_fraction': 0.4784578764541586}. Best is trial 0 with value: 1.0.\n",
      "[I 2024-02-05 15:50:11,291] Trial 80 finished with value: 1.0 and parameters: {'lambda_l1': 0.002637961923716632, 'lambda_l2': 1.874886743923665e-06, 'num_leaves': 25, 'feature_fraction': 0.546644308754212, 'bagging_fraction': 0.7911493350966236}. Best is trial 0 with value: 1.0.\n",
      "[I 2024-02-05 15:50:11,402] Trial 81 finished with value: 1.0 and parameters: {'lambda_l1': 7.405584424670513e-06, 'lambda_l2': 6.463777030772822e-06, 'num_leaves': 175, 'feature_fraction': 0.8987636431654946, 'bagging_fraction': 0.8453809164721062}. Best is trial 0 with value: 1.0.\n",
      "[I 2024-02-05 15:50:11,511] Trial 82 finished with value: 1.0 and parameters: {'lambda_l1': 0.11426082756983917, 'lambda_l2': 2.3743902599972085e-05, 'num_leaves': 226, 'feature_fraction': 0.9342206612401197, 'bagging_fraction': 0.8338715415451756}. Best is trial 0 with value: 1.0.\n",
      "[I 2024-02-05 15:50:11,641] Trial 83 finished with value: 1.0 and parameters: {'lambda_l1': 2.578929607294342e-05, 'lambda_l2': 5.411459188607941e-07, 'num_leaves': 97, 'feature_fraction': 0.48891111812591953, 'bagging_fraction': 0.8141557615021096}. Best is trial 0 with value: 1.0.\n",
      "[I 2024-02-05 15:50:11,751] Trial 84 finished with value: 1.0 and parameters: {'lambda_l1': 3.820205127127884e-06, 'lambda_l2': 7.547514212275229e-05, 'num_leaves': 196, 'feature_fraction': 0.8682090938687327, 'bagging_fraction': 0.9463407906897122}. Best is trial 0 with value: 1.0.\n",
      "[I 2024-02-05 15:50:11,889] Trial 85 finished with value: 1.0 and parameters: {'lambda_l1': 4.921464026769498e-07, 'lambda_l2': 0.00029204369206073085, 'num_leaves': 149, 'feature_fraction': 0.5277125766097609, 'bagging_fraction': 0.7981866862898293}. Best is trial 0 with value: 1.0.\n",
      "[I 2024-02-05 15:50:12,004] Trial 86 finished with value: 1.0 and parameters: {'lambda_l1': 0.00029068225085895644, 'lambda_l2': 4.004357520802549, 'num_leaves': 32, 'feature_fraction': 0.7908521028534039, 'bagging_fraction': 0.9252236921545116}. Best is trial 0 with value: 1.0.\n",
      "[I 2024-02-05 15:50:12,118] Trial 87 finished with value: 1.0 and parameters: {'lambda_l1': 4.3610808939344766e-08, 'lambda_l2': 0.002153637181628682, 'num_leaves': 243, 'feature_fraction': 0.9168411308627838, 'bagging_fraction': 0.7488148950425269}. Best is trial 0 with value: 1.0.\n",
      "[I 2024-02-05 15:50:12,227] Trial 88 finished with value: 1.0 and parameters: {'lambda_l1': 1.4136913309306792e-06, 'lambda_l2': 2.390605254255147e-07, 'num_leaves': 93, 'feature_fraction': 0.9716772965000577, 'bagging_fraction': 0.8963790618560991}. Best is trial 0 with value: 1.0.\n",
      "[I 2024-02-05 15:50:12,389] Trial 89 finished with value: 1.0 and parameters: {'lambda_l1': 1.7735765909211295e-07, 'lambda_l2': 1.4484688765553925e-07, 'num_leaves': 218, 'feature_fraction': 0.5637434280829541, 'bagging_fraction': 0.8579491069406748}. Best is trial 0 with value: 1.0.\n",
      "[I 2024-02-05 15:50:12,484] Trial 90 finished with value: 1.0 and parameters: {'lambda_l1': 4.133763063285092, 'lambda_l2': 0.048450954352910296, 'num_leaves': 185, 'feature_fraction': 0.43890018982933143, 'bagging_fraction': 0.881159004588878}. Best is trial 0 with value: 1.0.\n",
      "[I 2024-02-05 15:50:12,600] Trial 91 finished with value: 1.0 and parameters: {'lambda_l1': 1.7245140363042224, 'lambda_l2': 1.6528730763085863e-08, 'num_leaves': 202, 'feature_fraction': 0.5879028866253657, 'bagging_fraction': 0.6960050364102935}. Best is trial 0 with value: 1.0.\n",
      "[I 2024-02-05 15:50:12,702] Trial 92 finished with value: 1.0 and parameters: {'lambda_l1': 8.35120471845772, 'lambda_l2': 4.055626645242791e-08, 'num_leaves': 209, 'feature_fraction': 0.6515941596384062, 'bagging_fraction': 0.6782725152381084}. Best is trial 0 with value: 1.0.\n",
      "[I 2024-02-05 15:50:12,812] Trial 93 finished with value: 1.0 and parameters: {'lambda_l1': 0.6093335095637546, 'lambda_l2': 0.4132022352213436, 'num_leaves': 10, 'feature_fraction': 0.901766929189484, 'bagging_fraction': 0.7087693766109369}. Best is trial 0 with value: 1.0.\n",
      "[I 2024-02-05 15:50:12,919] Trial 94 finished with value: 1.0 and parameters: {'lambda_l1': 4.755749438701082, 'lambda_l2': 1.6688651144287426e-08, 'num_leaves': 140, 'feature_fraction': 0.5124915985175619, 'bagging_fraction': 0.7625232172680375}. Best is trial 0 with value: 1.0.\n",
      "[I 2024-02-05 15:50:13,032] Trial 95 finished with value: 1.0 and parameters: {'lambda_l1': 0.964930219206407, 'lambda_l2': 9.099344394266727e-08, 'num_leaves': 171, 'feature_fraction': 0.46247630781376925, 'bagging_fraction': 0.5586579162259353}. Best is trial 0 with value: 1.0.\n",
      "[I 2024-02-05 15:50:13,143] Trial 96 finished with value: 1.0 and parameters: {'lambda_l1': 0.34161977181568237, 'lambda_l2': 5.6315239352791094e-08, 'num_leaves': 129, 'feature_fraction': 0.6101013179158531, 'bagging_fraction': 0.7360250360524555}. Best is trial 0 with value: 1.0.\n",
      "[I 2024-02-05 15:50:13,255] Trial 97 finished with value: 1.0 and parameters: {'lambda_l1': 0.138672809934368, 'lambda_l2': 1.6745927517253987e-06, 'num_leaves': 20, 'feature_fraction': 0.717395582872743, 'bagging_fraction': 0.4135423349841832}. Best is trial 0 with value: 1.0.\n",
      "[I 2024-02-05 15:50:13,369] Trial 98 finished with value: 1.0 and parameters: {'lambda_l1': 0.04696374006314038, 'lambda_l2': 0.005628572913684591, 'num_leaves': 155, 'feature_fraction': 0.8286887311590586, 'bagging_fraction': 0.776229446847228}. Best is trial 0 with value: 1.0.\n",
      "[I 2024-02-05 15:50:13,489] Trial 99 finished with value: 1.0 and parameters: {'lambda_l1': 6.672656500108273e-05, 'lambda_l2': 0.12878056227420087, 'num_leaves': 190, 'feature_fraction': 0.8542077558540788, 'bagging_fraction': 0.8028546063488131}. Best is trial 0 with value: 1.0.\n"
     ]
    }
   ],
   "source": [
    "are.exec()"
   ]
  },
  {
   "cell_type": "code",
   "execution_count": null,
   "metadata": {},
   "outputs": [],
   "source": []
  }
 ],
 "metadata": {
  "kernelspec": {
   "display_name": ".venv",
   "language": "python",
   "name": "python3"
  },
  "language_info": {
   "codemirror_mode": {
    "name": "ipython",
    "version": 3
   },
   "file_extension": ".py",
   "mimetype": "text/x-python",
   "name": "python",
   "nbconvert_exporter": "python",
   "pygments_lexer": "ipython3",
   "version": "3.9.18"
  }
 },
 "nbformat": 4,
 "nbformat_minor": 2
}
