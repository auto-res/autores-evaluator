{
 "cells": [
  {
   "cell_type": "markdown",
   "metadata": {},
   "source": [
    "# AutoRes Evaluator"
   ]
  },
  {
   "cell_type": "markdown",
   "metadata": {},
   "source": [
    "<a href=\"https://colab.research.google.com/github/auto-res/autores-evaluator/blob/main/examples/A+B.ipynb\" target=\"_blank\" rel=\"noopener noreferrer\"><img src=\"https://colab.research.google.com/assets/colab-badge.svg\" alt=\"Open In Colab\"/></a>"
   ]
  },
  {
   "cell_type": "code",
   "execution_count": null,
   "metadata": {},
   "outputs": [],
   "source": [
    "%%capture\n",
    "%pip install autoresevaluator"
   ]
  },
  {
   "cell_type": "code",
   "execution_count": null,
   "metadata": {},
   "outputs": [],
   "source": [
    "!git clone https://github.com/fuyu-quant/A_B-dataset.git"
   ]
  },
  {
   "cell_type": "code",
   "execution_count": null,
   "metadata": {},
   "outputs": [],
   "source": [
    "import os\n",
    "from autoresevaluator import AutoResEvaluator\n",
    "\n",
    "#os.environ[\"OPENAI_API_KEY\"] = \"YOUR_API_KEY\"\n",
    "os.environ[\"GOOGLE_API_KEY\"] = \"YOUR_API_KEY\"\n",
    "#os.environ[\"ANTHROPIC_API_KEY\"] = \"YOUR_API_KEY\""
   ]
  },
  {
   "cell_type": "markdown",
   "metadata": {},
   "source": [
    "## AutoResEvaluatorの設定"
   ]
  },
  {
   "cell_type": "code",
   "execution_count": null,
   "metadata": {},
   "outputs": [],
   "source": [
    "params = {\n",
    "    'lr': {'type': 'log_float', 'args': [1e-5, 1e-3]}\n",
    "}"
   ]
  },
  {
   "cell_type": "code",
   "execution_count": null,
   "metadata": {},
   "outputs": [],
   "source": [
    "are = AutoResEvaluator(\n",
    "    #llm_name='gpt-4-turbo-preview',\n",
    "    llm_name='gemini-pro',\n",
    "    #llm_name='claude-3-opus-20240229',\n",
    "    dataset_name='cifar10',\n",
    "    params=params,\n",
    "    valuation_index='accuracy',\n",
    "    datasave_path='./data'\n",
    "    )"
   ]
  },
  {
   "cell_type": "markdown",
   "metadata": {},
   "source": [
    "## AutoResEvaluatorの実行"
   ]
  },
  {
   "cell_type": "code",
   "execution_count": null,
   "metadata": {},
   "outputs": [],
   "source": [
    "model_path='/content/A_B-dataset/src/cifar10/cnn_base.py'\n",
    "\n",
    "# Optimizer\n",
    "model_path='/content/A_B-dataset/src/cifar10/optimizer/cnn_adadelta.py'\n",
    "model_path='/content/A_B-dataset/src/cifar10/optimizer/cnn_adam.py'\n",
    "model_path='/content/A_B-dataset/src/cifar10/optimizer/cnn_rmsprop.py'\n",
    "model_path='/content/A_B-dataset/src/cifar10/optimizer/cnn_momentumsgd.py'\n",
    "\n",
    "# Architecture\n",
    "model_path='/content/A_B-dataset/src/cifar10/architecture/cnn_batch_normalization.py'\n",
    "model_path='/content/A_B-dataset/src/cifar10/architecture/cnn_dilation+residual_block.py'\n",
    "model_path='/content/A_B-dataset/src/cifar10/architecture/cnn_dilation.py'\n",
    "model_path='/content/A_B-dataset/src/cifar10/architecture/cnn_dropout.py'\n",
    "model_path='/content/A_B-dataset/src/cifar10/architecture/cnn_multiscale_dropout.py'\n",
    "model_path='/content/A_B-dataset/src/cifar10/architecture/cnn_residual_block.py'\n",
    "\n",
    "\n",
    "are.exec(model_path)"
   ]
  }
 ],
 "metadata": {
  "language_info": {
   "name": "python"
  }
 },
 "nbformat": 4,
 "nbformat_minor": 2
}
