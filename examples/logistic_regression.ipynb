{
  "cells": [
    {
      "cell_type": "markdown",
      "metadata": {
        "id": "OKgmEU6xE8ow"
      },
      "source": [
        "# AutoRes Evaluator"
      ]
    },
    {
      "cell_type": "markdown",
      "metadata": {
        "id": "6eZO9ytORgDL"
      },
      "source": [
        "<a href=\"https://colab.research.google.com/github/fuyu-quant/autores-evaluator/blob/main/examples/logistic_regression.ipynb\" target=\"_blank\" rel=\"noopener noreferrer\"><img src=\"https://colab.research.google.com/assets/colab-badge.svg\" alt=\"Open In Colab\"/></a>"
      ]
    },
    {
      "cell_type": "code",
      "execution_count": 1,
      "metadata": {
        "id": "y0EBlkfnE4U0"
      },
      "outputs": [],
      "source": [
        "%%capture\n",
        "%pip install autoresevaluator"
      ]
    },
    {
      "cell_type": "code",
      "execution_count": 2,
      "metadata": {
        "id": "c85Yaen_FGPr"
      },
      "outputs": [],
      "source": [
        "import os\n",
        "\n",
        "os.environ[\"OPENAI_API_KEY\"] = \"YOUR_API_KEY\"\n",
        "\n",
        "from autoresevaluator import AutoResEvaluator"
      ]
    },
    {
      "cell_type": "markdown",
      "metadata": {
        "id": "eZr0aowrHlcy"
      },
      "source": [
        "## サンプルのモデルを作成"
      ]
    },
    {
      "cell_type": "code",
      "execution_count": 11,
      "metadata": {
        "id": "nMYqC5SBG5JN"
      },
      "outputs": [],
      "source": [
        "# 工夫のないロジスティック回帰\n",
        "sample_model = \"\"\"\n",
        "import numpy as np\n",
        "\n",
        "def sigmoid(z):\n",
        "    return 1 / (1 + np.exp(-z))\n",
        "\n",
        "def compute_cost(X, y, weights):\n",
        "    m = len(y)\n",
        "    h = sigmoid(X.dot(weights))\n",
        "    cost = -(1/m) * np.sum(y * np.log(h) + (1 - y) * np.log(1 - h))\n",
        "    return cost\n",
        "\n",
        "def gradient_descent(X, y, weights, learning_rate, iterations):\n",
        "    m = len(y)\n",
        "    cost_history = []\n",
        "\n",
        "    for i in range(iterations):\n",
        "        h = sigmoid(X.dot(weights))\n",
        "        gradient = np.dot(X.T, (h - y)) / m\n",
        "        weights -= learning_rate * gradient\n",
        "        cost = compute_cost(X, y, weights)\n",
        "        cost_history.append(cost)\n",
        "\n",
        "    return weights, cost_history\n",
        "\n",
        "def predict(X, weights):\n",
        "    predictions = sigmoid(X.dot(weights)) >= 0.5\n",
        "    return predictions.astype(int)\n",
        "\n",
        "def model(X_train, y_train, X_valid, params):\n",
        "    # 訓練データにバイアス項を追加\n",
        "    X_train = np.insert(X_train, 0, 1, axis=1)\n",
        "    X_valid = np.insert(X_valid, 0, 1, axis=1)\n",
        "\n",
        "    # 重みの初期化\n",
        "    weights = np.zeros(X_train.shape[1])\n",
        "\n",
        "    # モデルの学習\n",
        "    weights, cost_history = gradient_descent(X_train, y_train, weights, params[\"learning_rate\"], params[\"iterations\"])\n",
        "\n",
        "    # 検証データセットに対する予測\n",
        "    y_pred = predict(X_valid, weights)\n",
        "\n",
        "    return y_pred\n",
        "\"\"\"\n",
        "\n",
        "\n",
        "with open('/content/example.py', 'w') as file:\n",
        "    file.write(sample_model)"
      ]
    },
    {
      "cell_type": "code",
      "execution_count": 7,
      "metadata": {
        "id": "6jK7rT7GPbgT"
      },
      "outputs": [],
      "source": [
        "# いくつか追加したロジスティック回帰\n",
        "sample_model = \"\"\"\n",
        "import numpy as np\n",
        "\n",
        "def sigmoid(z):\n",
        "    return 1 / (1 + np.exp(-z))\n",
        "\n",
        "def feature_normalize(X):\n",
        "    mu = np.mean(X, axis=0)\n",
        "    sigma = np.std(X, axis=0)\n",
        "    X_norm = (X - mu) / sigma\n",
        "    return X_norm, mu, sigma\n",
        "\n",
        "def compute_cost_reg(X, y, weights, lambda_):\n",
        "    m = len(y)\n",
        "    h = sigmoid(X @ weights)\n",
        "    cost = -(1/m) * np.sum(y * np.log(h) + (1 - y) * np.log(1 - h)) + (lambda_ / (2*m)) * np.sum(weights[1:] ** 2)\n",
        "    return cost\n",
        "\n",
        "def gradient_descent_reg(X, y, weights, learning_rate, iterations, lambda_):\n",
        "    m = len(y)\n",
        "    cost_history = []\n",
        "    for i in range(iterations):\n",
        "        h = sigmoid(X @ weights)\n",
        "        gradient = (X.T @ (h - y)) / m\n",
        "        gradient[1:] += (lambda_ / m) * weights[1:]  # バイアス項は正則化しない\n",
        "        weights -= learning_rate * gradient\n",
        "        cost = compute_cost_reg(X, y, weights, lambda_)\n",
        "        cost_history.append(cost)\n",
        "\n",
        "        # 早期停止の条件（改善が見られない場合）\n",
        "        if i > 0 and abs(cost_history[-2] - cost_history[-1]) < 1e-6:\n",
        "            print(f\"Early stopping at iteration {i}\")\n",
        "            break\n",
        "\n",
        "    return weights, cost_history\n",
        "\n",
        "def predict(X, weights):\n",
        "    predictions = sigmoid(X @ weights) >= 0.5\n",
        "    return predictions.astype(int)\n",
        "\n",
        "def model(X_train, y_train, X_valid, params):\n",
        "    # 特徴量の正規化\n",
        "    X_train_norm, mu, sigma = feature_normalize(X_train)\n",
        "    X_valid_norm = (X_valid - mu) / sigma  # 検証データも同じパラメータで正規化\n",
        "\n",
        "    # 訓練データにバイアス項を追加\n",
        "    X_train_norm = np.insert(X_train_norm, 0, 1, axis=1)\n",
        "    X_valid_norm = np.insert(X_valid_norm, 0, 1, axis=1)\n",
        "\n",
        "    # 重みの初期化\n",
        "    weights = np.zeros(X_train_norm.shape[1])\n",
        "\n",
        "    # モデルの学習\n",
        "    lambda_ = params[\"lambda\"]  # 正則化パラメータ\n",
        "    weights, cost_history = gradient_descent_reg(X_train_norm, y_train, weights, params[\"learning_rate\"], params[\"iterations\"], lambda_)\n",
        "\n",
        "    # 検証データセットに対する予測\n",
        "    y_pred = predict(X_valid_norm, weights)\n",
        "\n",
        "    return y_pred\n",
        "\"\"\"\n",
        "\n",
        "\n",
        "with open('/content/example.py', 'w') as file:\n",
        "    file.write(sample_model)"
      ]
    },
    {
      "cell_type": "markdown",
      "metadata": {
        "id": "vuV_SJtoGQQS"
      },
      "source": [
        "## AutoResEvaluatorの設定"
      ]
    },
    {
      "cell_type": "code",
      "execution_count": 12,
      "metadata": {
        "id": "_RWyFWPLFZCB"
      },
      "outputs": [],
      "source": [
        "params = {\n",
        "    'learning_rate': {'type': 'log_float', 'args': [1e-8, 0.1]},\n",
        "    'iterations': {'type': 'log_float', 'args': [100, 1000]},\n",
        "    \"lambda\": 1\n",
        "}"
      ]
    },
    {
      "cell_type": "code",
      "execution_count": 13,
      "metadata": {
        "id": "be9OtZCnGMEx"
      },
      "outputs": [],
      "source": [
        "are = AutoResEvaluator(\n",
        "    dataset_name='titanic',\n",
        "    model_path='/content/example.py',\n",
        "    params=params,\n",
        "    valuation_index='roc_auc',\n",
        "    datasave_path=None\n",
        "    )"
      ]
    },
    {
      "cell_type": "markdown",
      "metadata": {
        "id": "QTTW7X2DGVwj"
      },
      "source": [
        "## AutoResEvaluatorの実行"
      ]
    },
    {
      "cell_type": "code",
      "execution_count": null,
      "metadata": {
        "colab": {
          "base_uri": "https://localhost:8080/",
          "height": 1000,
          "referenced_widgets": [
            "bb9e9c831c894334966a879fba4159e6",
            "76d2910d497940b0b44dc89e8dda2674",
            "9743f2604363439db7d66c6142b18744",
            "4e57f5e5ea7246019d3d935af62fa2d1",
            "d1577806a2fc422080f4fd1e1852fb00",
            "cda4ebf68a0b42169846c8022e32f4bd",
            "a7c88ddafa7d4af082a58eb98e72a25e",
            "0ff1f94cdf3d41509b87d54c57099603",
            "cad5276ce9a0425a89066c841cffde9f",
            "02fa7fc0b3e546229c69aa8614b326e7",
            "23096a25fc75454da668dc9df9f26c19"
          ]
        },
        "id": "MbYHgWwXGPTe",
        "outputId": "7939cc82-fe58-42f3-ca1c-f9a49577f281"
      },
      "outputs": [],
      "source": [
        "are.exec()"
      ]
    },
    {
      "cell_type": "code",
      "execution_count": null,
      "metadata": {
        "id": "ZxQ21k4UHtnY"
      },
      "outputs": [],
      "source": []
    }
  ],
  "metadata": {
    "colab": {
      "authorship_tag": "ABX9TyNE55zitJGrhU8Wy+Ljc9OA",
      "provenance": []
    },
    "kernelspec": {
      "display_name": "Python 3",
      "name": "python3"
    },
    "language_info": {
      "name": "python"
    },
    "widgets": {
      "application/vnd.jupyter.widget-state+json": {
        "02fa7fc0b3e546229c69aa8614b326e7": {
          "model_module": "@jupyter-widgets/base",
          "model_module_version": "1.2.0",
          "model_name": "LayoutModel",
          "state": {
            "_model_module": "@jupyter-widgets/base",
            "_model_module_version": "1.2.0",
            "_model_name": "LayoutModel",
            "_view_count": null,
            "_view_module": "@jupyter-widgets/base",
            "_view_module_version": "1.2.0",
            "_view_name": "LayoutView",
            "align_content": null,
            "align_items": null,
            "align_self": null,
            "border": null,
            "bottom": null,
            "display": null,
            "flex": null,
            "flex_flow": null,
            "grid_area": null,
            "grid_auto_columns": null,
            "grid_auto_flow": null,
            "grid_auto_rows": null,
            "grid_column": null,
            "grid_gap": null,
            "grid_row": null,
            "grid_template_areas": null,
            "grid_template_columns": null,
            "grid_template_rows": null,
            "height": null,
            "justify_content": null,
            "justify_items": null,
            "left": null,
            "margin": null,
            "max_height": null,
            "max_width": null,
            "min_height": null,
            "min_width": null,
            "object_fit": null,
            "object_position": null,
            "order": null,
            "overflow": null,
            "overflow_x": null,
            "overflow_y": null,
            "padding": null,
            "right": null,
            "top": null,
            "visibility": null,
            "width": null
          }
        },
        "0ff1f94cdf3d41509b87d54c57099603": {
          "model_module": "@jupyter-widgets/base",
          "model_module_version": "1.2.0",
          "model_name": "LayoutModel",
          "state": {
            "_model_module": "@jupyter-widgets/base",
            "_model_module_version": "1.2.0",
            "_model_name": "LayoutModel",
            "_view_count": null,
            "_view_module": "@jupyter-widgets/base",
            "_view_module_version": "1.2.0",
            "_view_name": "LayoutView",
            "align_content": null,
            "align_items": null,
            "align_self": null,
            "border": null,
            "bottom": null,
            "display": null,
            "flex": null,
            "flex_flow": null,
            "grid_area": null,
            "grid_auto_columns": null,
            "grid_auto_flow": null,
            "grid_auto_rows": null,
            "grid_column": null,
            "grid_gap": null,
            "grid_row": null,
            "grid_template_areas": null,
            "grid_template_columns": null,
            "grid_template_rows": null,
            "height": null,
            "justify_content": null,
            "justify_items": null,
            "left": null,
            "margin": null,
            "max_height": null,
            "max_width": null,
            "min_height": null,
            "min_width": null,
            "object_fit": null,
            "object_position": null,
            "order": null,
            "overflow": null,
            "overflow_x": null,
            "overflow_y": null,
            "padding": null,
            "right": null,
            "top": null,
            "visibility": null,
            "width": null
          }
        },
        "23096a25fc75454da668dc9df9f26c19": {
          "model_module": "@jupyter-widgets/controls",
          "model_module_version": "1.5.0",
          "model_name": "DescriptionStyleModel",
          "state": {
            "_model_module": "@jupyter-widgets/controls",
            "_model_module_version": "1.5.0",
            "_model_name": "DescriptionStyleModel",
            "_view_count": null,
            "_view_module": "@jupyter-widgets/base",
            "_view_module_version": "1.2.0",
            "_view_name": "StyleView",
            "description_width": ""
          }
        },
        "4e57f5e5ea7246019d3d935af62fa2d1": {
          "model_module": "@jupyter-widgets/controls",
          "model_module_version": "1.5.0",
          "model_name": "HTMLModel",
          "state": {
            "_dom_classes": [],
            "_model_module": "@jupyter-widgets/controls",
            "_model_module_version": "1.5.0",
            "_model_name": "HTMLModel",
            "_view_count": null,
            "_view_module": "@jupyter-widgets/controls",
            "_view_module_version": "1.5.0",
            "_view_name": "HTMLView",
            "description": "",
            "description_tooltip": null,
            "layout": "IPY_MODEL_02fa7fc0b3e546229c69aa8614b326e7",
            "placeholder": "​",
            "style": "IPY_MODEL_23096a25fc75454da668dc9df9f26c19",
            "value": " 100/100 [00:55&lt;00:00,  2.93it/s]"
          }
        },
        "76d2910d497940b0b44dc89e8dda2674": {
          "model_module": "@jupyter-widgets/controls",
          "model_module_version": "1.5.0",
          "model_name": "HTMLModel",
          "state": {
            "_dom_classes": [],
            "_model_module": "@jupyter-widgets/controls",
            "_model_module_version": "1.5.0",
            "_model_name": "HTMLModel",
            "_view_count": null,
            "_view_module": "@jupyter-widgets/controls",
            "_view_module_version": "1.5.0",
            "_view_name": "HTMLView",
            "description": "",
            "description_tooltip": null,
            "layout": "IPY_MODEL_cda4ebf68a0b42169846c8022e32f4bd",
            "placeholder": "​",
            "style": "IPY_MODEL_a7c88ddafa7d4af082a58eb98e72a25e",
            "value": "100%"
          }
        },
        "9743f2604363439db7d66c6142b18744": {
          "model_module": "@jupyter-widgets/controls",
          "model_module_version": "1.5.0",
          "model_name": "FloatProgressModel",
          "state": {
            "_dom_classes": [],
            "_model_module": "@jupyter-widgets/controls",
            "_model_module_version": "1.5.0",
            "_model_name": "FloatProgressModel",
            "_view_count": null,
            "_view_module": "@jupyter-widgets/controls",
            "_view_module_version": "1.5.0",
            "_view_name": "ProgressView",
            "bar_style": "success",
            "description": "",
            "description_tooltip": null,
            "layout": "IPY_MODEL_0ff1f94cdf3d41509b87d54c57099603",
            "max": 100,
            "min": 0,
            "orientation": "horizontal",
            "style": "IPY_MODEL_cad5276ce9a0425a89066c841cffde9f",
            "value": 100
          }
        },
        "a7c88ddafa7d4af082a58eb98e72a25e": {
          "model_module": "@jupyter-widgets/controls",
          "model_module_version": "1.5.0",
          "model_name": "DescriptionStyleModel",
          "state": {
            "_model_module": "@jupyter-widgets/controls",
            "_model_module_version": "1.5.0",
            "_model_name": "DescriptionStyleModel",
            "_view_count": null,
            "_view_module": "@jupyter-widgets/base",
            "_view_module_version": "1.2.0",
            "_view_name": "StyleView",
            "description_width": ""
          }
        },
        "bb9e9c831c894334966a879fba4159e6": {
          "model_module": "@jupyter-widgets/controls",
          "model_module_version": "1.5.0",
          "model_name": "HBoxModel",
          "state": {
            "_dom_classes": [],
            "_model_module": "@jupyter-widgets/controls",
            "_model_module_version": "1.5.0",
            "_model_name": "HBoxModel",
            "_view_count": null,
            "_view_module": "@jupyter-widgets/controls",
            "_view_module_version": "1.5.0",
            "_view_name": "HBoxView",
            "box_style": "",
            "children": [
              "IPY_MODEL_76d2910d497940b0b44dc89e8dda2674",
              "IPY_MODEL_9743f2604363439db7d66c6142b18744",
              "IPY_MODEL_4e57f5e5ea7246019d3d935af62fa2d1"
            ],
            "layout": "IPY_MODEL_d1577806a2fc422080f4fd1e1852fb00"
          }
        },
        "cad5276ce9a0425a89066c841cffde9f": {
          "model_module": "@jupyter-widgets/controls",
          "model_module_version": "1.5.0",
          "model_name": "ProgressStyleModel",
          "state": {
            "_model_module": "@jupyter-widgets/controls",
            "_model_module_version": "1.5.0",
            "_model_name": "ProgressStyleModel",
            "_view_count": null,
            "_view_module": "@jupyter-widgets/base",
            "_view_module_version": "1.2.0",
            "_view_name": "StyleView",
            "bar_color": null,
            "description_width": ""
          }
        },
        "cda4ebf68a0b42169846c8022e32f4bd": {
          "model_module": "@jupyter-widgets/base",
          "model_module_version": "1.2.0",
          "model_name": "LayoutModel",
          "state": {
            "_model_module": "@jupyter-widgets/base",
            "_model_module_version": "1.2.0",
            "_model_name": "LayoutModel",
            "_view_count": null,
            "_view_module": "@jupyter-widgets/base",
            "_view_module_version": "1.2.0",
            "_view_name": "LayoutView",
            "align_content": null,
            "align_items": null,
            "align_self": null,
            "border": null,
            "bottom": null,
            "display": null,
            "flex": null,
            "flex_flow": null,
            "grid_area": null,
            "grid_auto_columns": null,
            "grid_auto_flow": null,
            "grid_auto_rows": null,
            "grid_column": null,
            "grid_gap": null,
            "grid_row": null,
            "grid_template_areas": null,
            "grid_template_columns": null,
            "grid_template_rows": null,
            "height": null,
            "justify_content": null,
            "justify_items": null,
            "left": null,
            "margin": null,
            "max_height": null,
            "max_width": null,
            "min_height": null,
            "min_width": null,
            "object_fit": null,
            "object_position": null,
            "order": null,
            "overflow": null,
            "overflow_x": null,
            "overflow_y": null,
            "padding": null,
            "right": null,
            "top": null,
            "visibility": null,
            "width": null
          }
        },
        "d1577806a2fc422080f4fd1e1852fb00": {
          "model_module": "@jupyter-widgets/base",
          "model_module_version": "1.2.0",
          "model_name": "LayoutModel",
          "state": {
            "_model_module": "@jupyter-widgets/base",
            "_model_module_version": "1.2.0",
            "_model_name": "LayoutModel",
            "_view_count": null,
            "_view_module": "@jupyter-widgets/base",
            "_view_module_version": "1.2.0",
            "_view_name": "LayoutView",
            "align_content": null,
            "align_items": null,
            "align_self": null,
            "border": null,
            "bottom": null,
            "display": null,
            "flex": null,
            "flex_flow": null,
            "grid_area": null,
            "grid_auto_columns": null,
            "grid_auto_flow": null,
            "grid_auto_rows": null,
            "grid_column": null,
            "grid_gap": null,
            "grid_row": null,
            "grid_template_areas": null,
            "grid_template_columns": null,
            "grid_template_rows": null,
            "height": null,
            "justify_content": null,
            "justify_items": null,
            "left": null,
            "margin": null,
            "max_height": null,
            "max_width": null,
            "min_height": null,
            "min_width": null,
            "object_fit": null,
            "object_position": null,
            "order": null,
            "overflow": null,
            "overflow_x": null,
            "overflow_y": null,
            "padding": null,
            "right": null,
            "top": null,
            "visibility": null,
            "width": null
          }
        }
      }
    }
  },
  "nbformat": 4,
  "nbformat_minor": 0
}
